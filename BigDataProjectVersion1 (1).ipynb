{
  "cells": [
    {
      "cell_type": "markdown",
      "metadata": {
        "id": "z9wVR6JLWuRx"
      },
      "source": [
        "Big Data Project\n",
        "\n",
        "Baylasan Almuqati  \n",
      ]
    },
    {
      "cell_type": "code",
      "execution_count": null,
      "metadata": {
        "id": "vr0_lZ4BhwyY"
      },
      "outputs": [],
      "source": [
        "#1.importing required libraries.\n",
        "\n",
        "from pyspark.sql import SparkSession\n",
        "from pyspark.sql.functions import lit, to_date ,col ,sum , when\n",
        "from google.colab import drive\n",
        "import zipfile\n",
        "import os\n",
        "import numpy as np\n",
        "import pandas as pd\n",
        "import matplotlib.pyplot as plt\n",
        "import seaborn as sns\n",
        "from pyspark.sql.functions import col, avg"
      ]
    },
    {
      "cell_type": "code",
      "execution_count": null,
      "metadata": {
        "colab": {
          "base_uri": "https://localhost:8080/"
        },
        "id": "JWqcaRIcix_6",
        "outputId": "16f76e32-df6c-4e80-b46a-69aebe9e7913"
      },
      "outputs": [
        {
          "output_type": "stream",
          "name": "stdout",
          "text": [
            "Drive already mounted at /content/drive; to attempt to forcibly remount, call drive.mount(\"/content/drive\", force_remount=True).\n"
          ]
        }
      ],
      "source": [
        "#2.reaching google drive to upload the file\n",
        "drive.mount('/content/drive')"
      ]
    },
    {
      "cell_type": "code",
      "execution_count": null,
      "metadata": {
        "colab": {
          "base_uri": "https://localhost:8080/"
        },
        "id": "b5Lf-0eiiyCy",
        "outputId": "002e3f50-2528-49d1-fdc2-f5e756750bc6"
      },
      "outputs": [
        {
          "output_type": "stream",
          "name": "stdout",
          "text": [
            "Archive:  /content/drive/My Drive/pmdata.zip\n",
            "replace /content/pmdata/participant-overview.xlsx? [y]es, [n]o, [A]ll, [N]one, [r]ename: a\n",
            "error:  invalid response [a]\n",
            "replace /content/pmdata/participant-overview.xlsx? [y]es, [n]o, [A]ll, [N]one, [r]ename: A\n",
            "  inflating: /content/pmdata/participant-overview.xlsx  \n",
            "  inflating: /content/pmdata/p16/fitbit/heart_rate.json  \n",
            "  inflating: /content/pmdata/p16/fitbit/calories.json  \n",
            "  inflating: /content/pmdata/p16/fitbit/distance.json  \n",
            "  inflating: /content/pmdata/p16/fitbit/exercise.json  \n",
            "  inflating: /content/pmdata/p16/fitbit/lightly_active_minutes.json  \n",
            "  inflating: /content/pmdata/p16/fitbit/moderately_active_minutes.json  \n",
            "  inflating: /content/pmdata/p16/fitbit/resting_heart_rate.json  \n",
            "  inflating: /content/pmdata/p16/fitbit/sedentary_minutes.json  \n",
            "  inflating: /content/pmdata/p16/fitbit/sleep_score.csv  \n",
            "  inflating: /content/pmdata/p16/fitbit/steps.json  \n",
            "  inflating: /content/pmdata/p16/fitbit/sleep.json  \n",
            "  inflating: /content/pmdata/p16/fitbit/time_in_heart_rate_zones.json  \n",
            "  inflating: /content/pmdata/p16/fitbit/very_active_minutes.json  \n",
            "  inflating: /content/pmdata/p16/googledocs/reporting.csv  \n",
            "  inflating: /content/pmdata/p16/pmsys/srpe.csv  \n",
            "  inflating: /content/pmdata/p16/pmsys/injury.csv  \n",
            "  inflating: /content/pmdata/p16/pmsys/wellness.csv  \n",
            "  inflating: /content/pmdata/p15/fitbit/heart_rate.json  \n",
            "  inflating: /content/pmdata/p15/fitbit/calories.json  \n",
            "  inflating: /content/pmdata/p15/fitbit/distance.json  \n",
            "  inflating: /content/pmdata/p15/fitbit/exercise.json  \n",
            "  inflating: /content/pmdata/p15/fitbit/resting_heart_rate.json  \n",
            "  inflating: /content/pmdata/p15/fitbit/lightly_active_minutes.json  \n",
            "  inflating: /content/pmdata/p15/fitbit/moderately_active_minutes.json  \n",
            "  inflating: /content/pmdata/p15/fitbit/steps.json  \n",
            "  inflating: /content/pmdata/p15/fitbit/sleep_score.csv  \n",
            "  inflating: /content/pmdata/p15/fitbit/sedentary_minutes.json  \n",
            "  inflating: /content/pmdata/p15/fitbit/sleep.json  \n",
            "  inflating: /content/pmdata/p15/fitbit/very_active_minutes.json  \n",
            "  inflating: /content/pmdata/p15/fitbit/time_in_heart_rate_zones.json  \n",
            "  inflating: /content/pmdata/p15/pmsys/injury.csv  \n",
            "  inflating: /content/pmdata/p15/pmsys/srpe.csv  \n",
            "  inflating: /content/pmdata/p15/pmsys/wellness.csv  \n",
            "  inflating: /content/pmdata/p14/fitbit/heart_rate.json  \n",
            "  inflating: /content/pmdata/p14/fitbit/calories.json  \n",
            "  inflating: /content/pmdata/p14/fitbit/distance.json  \n",
            "  inflating: /content/pmdata/p14/fitbit/exercise.json  \n",
            "  inflating: /content/pmdata/p14/fitbit/lightly_active_minutes.json  \n",
            "  inflating: /content/pmdata/p14/fitbit/moderately_active_minutes.json  \n",
            "  inflating: /content/pmdata/p14/fitbit/sedentary_minutes.json  \n",
            "  inflating: /content/pmdata/p14/fitbit/resting_heart_rate.json  \n",
            "  inflating: /content/pmdata/p14/fitbit/sleep.json  \n",
            "  inflating: /content/pmdata/p14/fitbit/steps.json  \n",
            "  inflating: /content/pmdata/p14/fitbit/sleep_score.csv  \n",
            "  inflating: /content/pmdata/p14/fitbit/time_in_heart_rate_zones.json  \n",
            "  inflating: /content/pmdata/p14/fitbit/very_active_minutes.json  \n",
            "  inflating: /content/pmdata/p14/googledocs/reporting.csv  \n",
            "  inflating: /content/pmdata/p14/pmsys/injury.csv  \n",
            "  inflating: /content/pmdata/p14/pmsys/srpe.csv  \n",
            "  inflating: /content/pmdata/p14/pmsys/wellness.csv  \n",
            "  inflating: /content/pmdata/p13/googledocs/reporting.csv  \n",
            "  inflating: /content/pmdata/p13/fitbit/heart_rate.json  \n",
            "  inflating: /content/pmdata/p13/fitbit/calories.json  \n",
            "  inflating: /content/pmdata/p13/fitbit/distance.json  \n",
            "  inflating: /content/pmdata/p13/fitbit/exercise.json  \n",
            "  inflating: /content/pmdata/p13/fitbit/lightly_active_minutes.json  \n",
            "  inflating: /content/pmdata/p13/fitbit/moderately_active_minutes.json  \n",
            "  inflating: /content/pmdata/p13/fitbit/sedentary_minutes.json  \n",
            "  inflating: /content/pmdata/p13/fitbit/sleep_score.csv  \n",
            "  inflating: /content/pmdata/p13/fitbit/sleep.json  \n",
            "  inflating: /content/pmdata/p13/fitbit/steps.json  \n",
            "  inflating: /content/pmdata/p13/fitbit/time_in_heart_rate_zones.json  \n",
            "  inflating: /content/pmdata/p13/fitbit/very_active_minutes.json  \n",
            "  inflating: /content/pmdata/p13/pmsys/injury.csv  \n",
            "  inflating: /content/pmdata/p13/pmsys/srpe.csv  \n",
            "  inflating: /content/pmdata/p13/pmsys/wellness.csv  \n",
            "  inflating: /content/pmdata/p12/fitbit/heart_rate.json  \n",
            "  inflating: /content/pmdata/p12/fitbit/calories.json  \n",
            "  inflating: /content/pmdata/p12/fitbit/distance.json  \n",
            "  inflating: /content/pmdata/p12/fitbit/exercise.json  \n",
            "  inflating: /content/pmdata/p12/fitbit/moderately_active_minutes.json  \n",
            "  inflating: /content/pmdata/p12/fitbit/sleep_score.csv  \n",
            "  inflating: /content/pmdata/p12/fitbit/sedentary_minutes.json  \n",
            "  inflating: /content/pmdata/p12/fitbit/steps.json  \n",
            "  inflating: /content/pmdata/p12/fitbit/sleep.json  \n",
            "  inflating: /content/pmdata/p12/fitbit/time_in_heart_rate_zones.json  \n",
            "  inflating: /content/pmdata/p12/fitbit/very_active_minutes.json  \n",
            "  inflating: /content/pmdata/p12/googledocs/reporting.csv  \n",
            "  inflating: /content/pmdata/p12/pmsys/injury.csv  \n",
            "  inflating: /content/pmdata/p12/pmsys/srpe.csv  \n",
            "  inflating: /content/pmdata/p12/pmsys/wellness.csv  \n",
            "  inflating: /content/pmdata/p11/fitbit/heart_rate.json  \n",
            "  inflating: /content/pmdata/p11/fitbit/calories.json  \n",
            "  inflating: /content/pmdata/p11/fitbit/distance.json  \n",
            "  inflating: /content/pmdata/p11/fitbit/exercise.json  \n",
            "  inflating: /content/pmdata/p11/fitbit/lightly_active_minutes.json  \n",
            "  inflating: /content/pmdata/p11/fitbit/moderately_active_minutes.json  \n",
            "  inflating: /content/pmdata/p11/fitbit/resting_heart_rate.json  \n",
            "  inflating: /content/pmdata/p11/fitbit/steps.json  \n",
            "  inflating: /content/pmdata/p11/fitbit/sedentary_minutes.json  \n",
            "  inflating: /content/pmdata/p11/fitbit/sleep_score.csv  \n",
            "  inflating: /content/pmdata/p11/fitbit/sleep.json  \n",
            "  inflating: /content/pmdata/p11/fitbit/time_in_heart_rate_zones.json  \n",
            "  inflating: /content/pmdata/p11/fitbit/very_active_minutes.json  \n",
            "  inflating: /content/pmdata/p11/googledocs/reporting.csv  \n",
            "  inflating: /content/pmdata/p11/pmsys/injury.csv  \n",
            "  inflating: /content/pmdata/p11/pmsys/srpe.csv  \n",
            "  inflating: /content/pmdata/p11/pmsys/wellness.csv  \n",
            "  inflating: /content/pmdata/p10/fitbit/heart_rate.json  \n",
            "  inflating: /content/pmdata/p10/fitbit/calories.json  \n",
            "  inflating: /content/pmdata/p10/fitbit/distance.json  \n",
            "  inflating: /content/pmdata/p10/fitbit/exercise.json  \n",
            "  inflating: /content/pmdata/p10/fitbit/lightly_active_minutes.json  \n",
            "  inflating: /content/pmdata/p10/fitbit/resting_heart_rate.json  \n",
            "  inflating: /content/pmdata/p10/fitbit/moderately_active_minutes.json  \n",
            "  inflating: /content/pmdata/p10/fitbit/sedentary_minutes.json  \n",
            "  inflating: /content/pmdata/p10/fitbit/steps.json  \n",
            "  inflating: /content/pmdata/p10/fitbit/sleep_score.csv  \n",
            "  inflating: /content/pmdata/p10/fitbit/sleep.json  \n",
            "  inflating: /content/pmdata/p10/fitbit/time_in_heart_rate_zones.json  \n",
            "  inflating: /content/pmdata/p10/fitbit/very_active_minutes.json  \n",
            "  inflating: /content/pmdata/p10/googledocs/reporting.csv  \n",
            "  inflating: /content/pmdata/p10/pmsys/injury.csv  \n",
            "  inflating: /content/pmdata/p10/pmsys/srpe.csv  \n",
            "  inflating: /content/pmdata/p10/pmsys/wellness.csv  \n",
            "  inflating: /content/pmdata/p09/fitbit/heart_rate.json  \n",
            "  inflating: /content/pmdata/p09/fitbit/calories.json  \n",
            "  inflating: /content/pmdata/p09/fitbit/distance.json  \n",
            "  inflating: /content/pmdata/p09/fitbit/exercise.json  \n",
            "  inflating: /content/pmdata/p09/fitbit/lightly_active_minutes.json  \n",
            "  inflating: /content/pmdata/p09/fitbit/moderately_active_minutes.json  \n",
            "  inflating: /content/pmdata/p09/fitbit/resting_heart_rate.json  \n",
            "  inflating: /content/pmdata/p09/fitbit/sedentary_minutes.json  \n",
            "  inflating: /content/pmdata/p09/fitbit/sleep_score.csv  \n",
            "  inflating: /content/pmdata/p09/fitbit/steps.json  \n",
            "  inflating: /content/pmdata/p09/fitbit/sleep.json  \n",
            "  inflating: /content/pmdata/p09/fitbit/time_in_heart_rate_zones.json  \n",
            "  inflating: /content/pmdata/p09/fitbit/very_active_minutes.json  \n",
            "  inflating: /content/pmdata/p09/googledocs/reporting.csv  \n",
            "  inflating: /content/pmdata/p09/pmsys/injury.csv  \n",
            "  inflating: /content/pmdata/p09/pmsys/srpe.csv  \n",
            "  inflating: /content/pmdata/p09/pmsys/wellness.csv  \n",
            "  inflating: /content/pmdata/p08/fitbit/heart_rate.json  \n",
            "  inflating: /content/pmdata/p08/fitbit/calories.json  \n",
            "  inflating: /content/pmdata/p08/fitbit/distance.json  \n",
            "  inflating: /content/pmdata/p08/fitbit/exercise.json  \n",
            "  inflating: /content/pmdata/p08/fitbit/lightly_active_minutes.json  \n",
            "  inflating: /content/pmdata/p08/fitbit/moderately_active_minutes.json  \n",
            "  inflating: /content/pmdata/p08/fitbit/resting_heart_rate.json  \n",
            "  inflating: /content/pmdata/p08/fitbit/sedentary_minutes.json  \n",
            "  inflating: /content/pmdata/p08/fitbit/sleep_score.csv  \n",
            "  inflating: /content/pmdata/p08/fitbit/steps.json  \n",
            "  inflating: /content/pmdata/p08/fitbit/sleep.json  \n",
            "  inflating: /content/pmdata/p08/fitbit/time_in_heart_rate_zones.json  \n",
            "  inflating: /content/pmdata/p08/fitbit/very_active_minutes.json  \n",
            "  inflating: /content/pmdata/p08/googledocs/reporting.csv  \n",
            "  inflating: /content/pmdata/p08/pmsys/srpe.csv  \n",
            "  inflating: /content/pmdata/p08/pmsys/wellness.csv  \n",
            "  inflating: /content/pmdata/p07/fitbit/heart_rate.json  \n",
            "  inflating: /content/pmdata/p07/fitbit/calories.json  \n",
            "  inflating: /content/pmdata/p07/fitbit/distance.json  \n",
            "  inflating: /content/pmdata/p07/fitbit/exercise.json  \n",
            "  inflating: /content/pmdata/p07/fitbit/moderately_active_minutes.json  \n",
            "  inflating: /content/pmdata/p07/fitbit/lightly_active_minutes.json  \n",
            "  inflating: /content/pmdata/p07/fitbit/sleep_score.csv  \n",
            "  inflating: /content/pmdata/p07/fitbit/resting_heart_rate.json  \n",
            "  inflating: /content/pmdata/p07/fitbit/sedentary_minutes.json  \n",
            "  inflating: /content/pmdata/p07/fitbit/steps.json  \n",
            "  inflating: /content/pmdata/p07/fitbit/sleep.json  \n",
            "  inflating: /content/pmdata/p07/fitbit/time_in_heart_rate_zones.json  \n",
            "  inflating: /content/pmdata/p07/fitbit/very_active_minutes.json  \n",
            "  inflating: /content/pmdata/p07/googledocs/reporting.csv  \n",
            "  inflating: /content/pmdata/p07/pmsys/injury.csv  \n",
            "  inflating: /content/pmdata/p07/pmsys/srpe.csv  \n",
            "  inflating: /content/pmdata/p07/pmsys/wellness.csv  \n",
            "  inflating: /content/pmdata/p06/fitbit/heart_rate.json  \n",
            "  inflating: /content/pmdata/p06/fitbit/calories.json  \n",
            "  inflating: /content/pmdata/p06/fitbit/distance.json  \n",
            "  inflating: /content/pmdata/p06/fitbit/exercise.json  \n",
            "  inflating: /content/pmdata/p06/fitbit/lightly_active_minutes.json  \n",
            "  inflating: /content/pmdata/p06/fitbit/moderately_active_minutes.json  \n",
            "  inflating: /content/pmdata/p06/fitbit/resting_heart_rate.json  \n",
            "  inflating: /content/pmdata/p06/fitbit/sedentary_minutes.json  \n",
            "  inflating: /content/pmdata/p06/fitbit/steps.json  \n",
            "  inflating: /content/pmdata/p06/fitbit/sleep_score.csv  \n",
            "  inflating: /content/pmdata/p06/fitbit/sleep.json  \n",
            "  inflating: /content/pmdata/p06/fitbit/time_in_heart_rate_zones.json  \n",
            "  inflating: /content/pmdata/p06/fitbit/very_active_minutes.json  \n",
            "  inflating: /content/pmdata/p06/googledocs/reporting.csv  \n",
            "  inflating: /content/pmdata/p06/pmsys/injury.csv  \n",
            "  inflating: /content/pmdata/p06/pmsys/srpe.csv  \n",
            "  inflating: /content/pmdata/p06/pmsys/wellness.csv  \n",
            "  inflating: /content/pmdata/p05/fitbit/heart_rate.json  \n",
            "  inflating: /content/pmdata/p05/fitbit/calories.json  \n",
            "  inflating: /content/pmdata/p05/fitbit/distance.json  \n",
            "  inflating: /content/pmdata/p05/fitbit/exercise.json  \n",
            "  inflating: /content/pmdata/p05/fitbit/lightly_active_minutes.json  \n",
            "  inflating: /content/pmdata/p05/fitbit/moderately_active_minutes.json  \n",
            "  inflating: /content/pmdata/p05/fitbit/resting_heart_rate.json  \n",
            "  inflating: /content/pmdata/p05/fitbit/sedentary_minutes.json  \n",
            "  inflating: /content/pmdata/p05/fitbit/steps.json  \n",
            "  inflating: /content/pmdata/p05/fitbit/sleep_score.csv  \n",
            "  inflating: /content/pmdata/p05/fitbit/sleep.json  \n",
            "  inflating: /content/pmdata/p05/fitbit/time_in_heart_rate_zones.json  \n",
            "  inflating: /content/pmdata/p05/fitbit/very_active_minutes.json  \n",
            "  inflating: /content/pmdata/p05/googledocs/reporting.csv  \n",
            "  inflating: /content/pmdata/p05/pmsys/injury.csv  \n",
            "  inflating: /content/pmdata/p05/pmsys/srpe.csv  \n",
            "  inflating: /content/pmdata/p05/pmsys/wellness.csv  \n",
            "  inflating: /content/pmdata/p05/food-images/281dad76-7501-4f0c-b81b-92fdeb256ab3.jpg  \n",
            "  inflating: /content/pmdata/p05/food-images/752bda71-b461-424e-a95b-17b9ed9da468.jpg  \n",
            "  inflating: /content/pmdata/p05/food-images/61bcd5e5-8e5f-475d-ba87-39f5dc09e002.jpg  \n",
            "  inflating: /content/pmdata/p05/food-images/IMG_2215.jpg  \n",
            "  inflating: /content/pmdata/p05/food-images/IMG_2216.jpg  \n",
            "  inflating: /content/pmdata/p05/food-images/IMG_2218.jpg  \n",
            "  inflating: /content/pmdata/p05/food-images/IMG_2217.jpg  \n",
            "  inflating: /content/pmdata/p05/food-images/IMG_2221.jpg  \n",
            "  inflating: /content/pmdata/p05/food-images/IMG_2223.jpg  \n",
            "  inflating: /content/pmdata/p05/food-images/IMG_2222.jpg  \n",
            "  inflating: /content/pmdata/p05/food-images/IMG_2219.jpg  \n",
            "  inflating: /content/pmdata/p05/food-images/IMG_2220.jpg  \n",
            "  inflating: /content/pmdata/p05/food-images/IMG_2231.jpg  \n",
            "  inflating: /content/pmdata/p05/food-images/IMG_2235.jpg  \n",
            "  inflating: /content/pmdata/p05/food-images/IMG_2232.jpg  \n",
            "  inflating: /content/pmdata/p05/food-images/IMG_2261.jpg  \n",
            "  inflating: /content/pmdata/p05/food-images/IMG_2255.jpg  \n",
            "  inflating: /content/pmdata/p05/food-images/IMG_2274.jpg  \n",
            "  inflating: /content/pmdata/p05/food-images/IMG_2275.jpg  \n",
            "  inflating: /content/pmdata/p05/food-images/IMG_2276.jpg  \n",
            "  inflating: /content/pmdata/p05/food-images/IMG_2278.jpg  \n",
            "  inflating: /content/pmdata/p05/food-images/IMG_2288.jpg  \n",
            "  inflating: /content/pmdata/p05/food-images/IMG_2289.jpg  \n",
            "  inflating: /content/pmdata/p05/food-images/IMG_2292.jpg  \n",
            "  inflating: /content/pmdata/p05/food-images/IMG_2293.jpg  \n",
            "  inflating: /content/pmdata/p05/food-images/IMG_2291.jpg  \n",
            "  inflating: /content/pmdata/p05/food-images/IMG_2300.jpg  \n",
            "  inflating: /content/pmdata/p05/food-images/IMG_2303.jpg  \n",
            "  inflating: /content/pmdata/p05/food-images/IMG_2304.jpg  \n",
            "  inflating: /content/pmdata/p05/food-images/IMG_2324.jpg  \n",
            "  inflating: /content/pmdata/p05/food-images/IMG_2341.jpg  \n",
            "  inflating: /content/pmdata/p05/food-images/IMG_2364.jpg  \n",
            "  inflating: /content/pmdata/p05/food-images/IMG_2370.jpg  \n",
            "  inflating: /content/pmdata/p05/food-images/IMG_2365.jpg  \n",
            "  inflating: /content/pmdata/p05/food-images/IMG_2369.jpg  \n",
            "  inflating: /content/pmdata/p05/food-images/IMG_2371.jpg  \n",
            "  inflating: /content/pmdata/p05/food-images/IMG_2372.jpg  \n",
            "  inflating: /content/pmdata/p05/food-images/IMG_2374.jpg  \n",
            "  inflating: /content/pmdata/p05/food-images/IMG_2378.jpg  \n",
            "  inflating: /content/pmdata/p05/food-images/IMG_2380.jpg  \n",
            "  inflating: /content/pmdata/p05/food-images/IMG_2373.jpg  \n",
            "  inflating: /content/pmdata/p05/food-images/IMG_2379.jpg  \n",
            "  inflating: /content/pmdata/p05/food-images/IMG_2381.jpg  \n",
            "  inflating: /content/pmdata/p05/food-images/IMG_2383.jpg  \n",
            "  inflating: /content/pmdata/p05/food-images/IMG_2386.jpg  \n",
            "  inflating: /content/pmdata/p05/food-images/IMG_2385.jpg  \n",
            "  inflating: /content/pmdata/p05/food-images/IMG_2382.jpg  \n",
            "  inflating: /content/pmdata/p05/food-images/IMG_2384.jpg  \n",
            "  inflating: /content/pmdata/p05/food-images/IMG_2387.jpg  \n",
            "  inflating: /content/pmdata/p05/food-images/IMG_2390.jpg  \n",
            "  inflating: /content/pmdata/p05/food-images/IMG_2388.jpg  \n",
            "  inflating: /content/pmdata/p05/food-images/IMG_2389.jpg  \n",
            "  inflating: /content/pmdata/p05/food-images/IMG_2393.jpg  \n",
            "  inflating: /content/pmdata/p05/food-images/IMG_2392.jpg  \n",
            "  inflating: /content/pmdata/p05/food-images/IMG_2398.jpg  \n",
            "  inflating: /content/pmdata/p05/food-images/IMG_2400.jpg  \n",
            "  inflating: /content/pmdata/p05/food-images/IMG_2394.jpg  \n",
            "  inflating: /content/pmdata/p05/food-images/IMG_2399.jpg  \n",
            "  inflating: /content/pmdata/p05/food-images/IMG_2401.jpg  \n",
            "  inflating: /content/pmdata/p05/food-images/IMG_2403.jpg  \n",
            "  inflating: /content/pmdata/p05/food-images/IMG_2404.jpg  \n",
            "  inflating: /content/pmdata/p05/food-images/IMG_2409.jpg  \n",
            "  inflating: /content/pmdata/p05/food-images/IMG_2402.jpg  \n",
            "  inflating: /content/pmdata/p05/food-images/IMG_2407.jpg  \n",
            "  inflating: /content/pmdata/p05/food-images/IMG_2410.jpg  \n",
            "  inflating: /content/pmdata/p05/food-images/IMG_2415.jpg  \n",
            "  inflating: /content/pmdata/p05/food-images/IMG_2411.jpg  \n",
            "  inflating: /content/pmdata/p05/food-images/IMG_2416.jpg  \n",
            "  inflating: /content/pmdata/p05/food-images/IMG_2417.jpg  \n",
            "  inflating: /content/pmdata/p05/food-images/IMG_2419.jpg  \n",
            "  inflating: /content/pmdata/p05/food-images/IMG_2422.jpg  \n",
            "  inflating: /content/pmdata/p05/food-images/IMG_2418.jpg  \n",
            "  inflating: /content/pmdata/p05/food-images/IMG_2421.jpg  \n",
            "  inflating: /content/pmdata/p05/food-images/IMG_2430.jpg  \n",
            "  inflating: /content/pmdata/p05/food-images/IMG_2428.jpg  \n",
            "  inflating: /content/pmdata/p05/food-images/IMG_2448.jpg  \n",
            "  inflating: /content/pmdata/p05/food-images/IMG_2429.jpg  \n",
            "  inflating: /content/pmdata/p05/food-images/IMG_2449.jpg  \n",
            "  inflating: /content/pmdata/p05/food-images/IMG_2451.jpg  \n",
            "  inflating: /content/pmdata/p05/food-images/IMG_2460.jpg  \n",
            "  inflating: /content/pmdata/p05/food-images/IMG_2450.jpg  \n",
            "  inflating: /content/pmdata/p05/food-images/IMG_2465.jpg  \n",
            "  inflating: /content/pmdata/p05/food-images/IMG_2475.jpg  \n",
            "  inflating: /content/pmdata/p05/food-images/IMG_2461.jpg  \n",
            "  inflating: /content/pmdata/p05/food-images/IMG_2464.jpg  \n",
            "  inflating: /content/pmdata/p05/food-images/IMG_2466.jpg  \n",
            "  inflating: /content/pmdata/p05/food-images/IMG_2476.jpg  \n",
            "  inflating: /content/pmdata/p05/food-images/IMG_2478.jpg  \n",
            "  inflating: /content/pmdata/p05/food-images/IMG_2477.jpg  \n",
            "  inflating: /content/pmdata/p05/food-images/IMG_2479.jpg  \n",
            "  inflating: /content/pmdata/p05/food-images/IMG_2487.jpg  \n",
            "  inflating: /content/pmdata/p05/food-images/IMG_2488.jpg  \n",
            "  inflating: /content/pmdata/p05/food-images/IMG_2490.jpg  \n",
            "  inflating: /content/pmdata/p05/food-images/IMG_2492.jpg  \n",
            "  inflating: /content/pmdata/p05/food-images/IMG_2489.jpg  \n",
            "  inflating: /content/pmdata/p05/food-images/IMG_2491.jpg  \n",
            "  inflating: /content/pmdata/p05/food-images/IMG_2493.jpg  \n",
            "  inflating: /content/pmdata/p05/food-images/IMG_2497.jpg  \n",
            "  inflating: /content/pmdata/p05/food-images/IMG_2496.jpg  \n",
            "  inflating: /content/pmdata/p05/food-images/IMG_2494.jpg  \n",
            "  inflating: /content/pmdata/p05/food-images/IMG_2495.jpg  \n",
            "  inflating: /content/pmdata/p05/food-images/IMG_2499.jpg  \n",
            "  inflating: /content/pmdata/p05/food-images/IMG_2502.jpg  \n",
            "  inflating: /content/pmdata/p05/food-images/IMG_2500.jpg  \n",
            "  inflating: /content/pmdata/p05/food-images/IMG_2501.jpg  \n",
            "  inflating: /content/pmdata/p05/food-images/IMG_2509.jpg  \n",
            "  inflating: /content/pmdata/p05/food-images/IMG_2508.jpg  \n",
            "  inflating: /content/pmdata/p05/food-images/IMG_2504.jpg  \n",
            "  inflating: /content/pmdata/p05/food-images/IMG_2584.jpg  \n",
            "  inflating: /content/pmdata/p05/food-images/IMG_2510.jpg  \n",
            "  inflating: /content/pmdata/p05/food-images/IMG_2588.jpg  \n",
            "  inflating: /content/pmdata/p05/food-images/IMG_2587.jpg  \n",
            "  inflating: /content/pmdata/p05/food-images/IMG_2585.jpg  \n",
            "  inflating: /content/pmdata/p05/food-images/IMG_2586.jpg  \n",
            "  inflating: /content/pmdata/p05/food-images/IMG_2589.jpg  \n",
            "  inflating: /content/pmdata/p05/food-images/IMG_2598.jpg  \n",
            "  inflating: /content/pmdata/p05/food-images/IMG_2599.jpg  \n",
            "  inflating: /content/pmdata/p05/food-images/IMG_2600.jpg  \n",
            "  inflating: /content/pmdata/p05/food-images/IMG_2601.jpg  \n",
            "  inflating: /content/pmdata/p05/food-images/IMG_2597.jpg  \n",
            "  inflating: /content/pmdata/p05/food-images/IMG_2603.jpg  \n",
            "  inflating: /content/pmdata/p05/food-images/IMG_2617.jpg  \n",
            "  inflating: /content/pmdata/p05/food-images/IMG_2616.jpg  \n",
            "  inflating: /content/pmdata/p05/food-images/IMG_2613.jpg  \n",
            "  inflating: /content/pmdata/p05/food-images/IMG_2615.jpg  \n",
            "  inflating: /content/pmdata/p05/food-images/IMG_2604.jpg  \n",
            "  inflating: /content/pmdata/p05/food-images/IMG_2618.jpg  \n",
            "  inflating: /content/pmdata/p05/food-images/IMG_2654.jpg  \n",
            "  inflating: /content/pmdata/p05/food-images/IMG_2653.jpg  \n",
            "  inflating: /content/pmdata/p05/food-images/IMG_2659.jpg  \n",
            "  inflating: /content/pmdata/p05/food-images/IMG_2656.jpg  \n",
            "  inflating: /content/pmdata/p05/food-images/IMG_2663.jpg  \n",
            "  inflating: /content/pmdata/p05/food-images/IMG_2660.jpg  \n",
            "  inflating: /content/pmdata/p05/food-images/IMG_2662.jpg  \n",
            "  inflating: /content/pmdata/p05/food-images/IMG_2661.jpg  \n",
            "  inflating: /content/pmdata/p05/food-images/IMG_2665.jpg  \n",
            "  inflating: /content/pmdata/p05/food-images/IMG_2664.jpg  \n",
            "  inflating: /content/pmdata/p05/food-images/IMG_2667.jpg  \n",
            "  inflating: /content/pmdata/p05/food-images/IMG_2670.jpg  \n",
            "  inflating: /content/pmdata/p05/food-images/IMG_2671.jpg  \n",
            "  inflating: /content/pmdata/p05/food-images/IMG_2666.jpg  \n",
            "  inflating: /content/pmdata/p05/food-images/IMG_2669.jpg  \n",
            "  inflating: /content/pmdata/p05/food-images/IMG_2672.jpg  \n",
            "  inflating: /content/pmdata/p05/food-images/IMG_2673.jpg  \n",
            "  inflating: /content/pmdata/p05/food-images/IMG_2675.jpg  \n",
            "  inflating: /content/pmdata/p05/food-images/IMG_2678.jpg  \n",
            "  inflating: /content/pmdata/p05/food-images/IMG_2674.jpg  \n",
            "  inflating: /content/pmdata/p05/food-images/IMG_2683.jpg  \n",
            "  inflating: /content/pmdata/p05/food-images/IMG_2685.jpg  \n",
            "  inflating: /content/pmdata/p05/food-images/IMG_2704.jpg  \n",
            "  inflating: /content/pmdata/p05/food-images/IMG_2687.jpg  \n",
            "  inflating: /content/pmdata/p05/food-images/IMG_2723.jpg  \n",
            "  inflating: /content/pmdata/p05/food-images/IMG_2735.jpg  \n",
            "  inflating: /content/pmdata/p05/food-images/IMG_2734.jpg  \n",
            "  inflating: /content/pmdata/p05/food-images/IMG_2727.jpg  \n",
            "  inflating: /content/pmdata/p05/food-images/IMG_2738.jpg  \n",
            "  inflating: /content/pmdata/p05/food-images/IMG_2737.jpg  \n",
            "  inflating: /content/pmdata/p05/food-images/IMG_2740.jpg  \n",
            "  inflating: /content/pmdata/p05/food-images/IMG_2739.jpg  \n",
            "  inflating: /content/pmdata/p05/food-images/IMG_2741.jpg  \n",
            "  inflating: /content/pmdata/p05/food-images/IMG_2742.jpg  \n",
            "  inflating: /content/pmdata/p05/food-images/IMG_2747.jpg  \n",
            "  inflating: /content/pmdata/p05/food-images/IMG_2767.jpg  \n",
            "  inflating: /content/pmdata/p05/food-images/IMG_2753.jpg  \n",
            "  inflating: /content/pmdata/p05/food-images/IMG_2765.jpg  \n",
            "  inflating: /content/pmdata/p05/food-images/IMG_2791.jpg  \n",
            "  inflating: /content/pmdata/p05/food-images/IMG_2795.jpg  \n",
            "  inflating: /content/pmdata/p05/food-images/IMG_2812.jpg  \n",
            "  inflating: /content/pmdata/p05/food-images/IMG_2800.jpg  \n",
            "  inflating: /content/pmdata/p05/food-images/IMG_2825.jpg  \n",
            "  inflating: /content/pmdata/p05/food-images/IMG_2831.jpg  \n",
            "  inflating: /content/pmdata/p05/food-images/IMG_2832.jpg  \n",
            "  inflating: /content/pmdata/p05/food-images/IMG_2833.jpg  \n",
            "  inflating: /content/pmdata/p05/food-images/IMG_2847.jpg  \n",
            "  inflating: /content/pmdata/p05/food-images/IMG_2849.jpg  \n",
            "  inflating: /content/pmdata/p05/food-images/IMG_2878.jpg  \n",
            "  inflating: /content/pmdata/p05/food-images/IMG_2890.jpg  \n",
            "  inflating: /content/pmdata/p05/food-images/IMG_2893.jpg  \n",
            "  inflating: /content/pmdata/p05/food-images/IMG_2897.jpg  \n",
            "  inflating: /content/pmdata/p05/food-images/IMG_2896.jpg  \n",
            "  inflating: /content/pmdata/p05/food-images/IMG_2908.jpg  \n",
            "  inflating: /content/pmdata/p05/food-images/IMG_2924.jpg  \n",
            "  inflating: /content/pmdata/p05/food-images/IMG_2970.jpg  \n",
            "  inflating: /content/pmdata/p05/food-images/IMG_2925.jpg  \n",
            "  inflating: /content/pmdata/p05/food-images/IMG_2966.jpg  \n",
            "  inflating: /content/pmdata/p05/food-images/IMG_2931.jpg  \n",
            "  inflating: /content/pmdata/p04/fitbit/heart_rate.json  \n",
            "  inflating: /content/pmdata/p04/fitbit/calories.json  \n",
            "  inflating: /content/pmdata/p04/fitbit/distance.json  \n",
            "  inflating: /content/pmdata/p04/fitbit/exercise.json  \n",
            "  inflating: /content/pmdata/p04/fitbit/lightly_active_minutes.json  \n",
            "  inflating: /content/pmdata/p04/fitbit/moderately_active_minutes.json  \n",
            "  inflating: /content/pmdata/p04/fitbit/resting_heart_rate.json  \n",
            "  inflating: /content/pmdata/p04/fitbit/sleep_score.csv  \n",
            "  inflating: /content/pmdata/p04/fitbit/sedentary_minutes.json  \n",
            "  inflating: /content/pmdata/p04/fitbit/steps.json  \n",
            "  inflating: /content/pmdata/p04/fitbit/sleep.json  \n",
            "  inflating: /content/pmdata/p04/fitbit/time_in_heart_rate_zones.json  \n",
            "  inflating: /content/pmdata/p04/fitbit/very_active_minutes.json  \n",
            "  inflating: /content/pmdata/p04/googledocs/reporting.csv  \n",
            "  inflating: /content/pmdata/p04/pmsys/injury.csv  \n",
            "  inflating: /content/pmdata/p04/pmsys/srpe.csv  \n",
            "  inflating: /content/pmdata/p04/pmsys/wellness.csv  \n",
            "  inflating: /content/pmdata/p03/fitbit/heart_rate.json  \n",
            "  inflating: /content/pmdata/p03/fitbit/calories.json  \n",
            "  inflating: /content/pmdata/p03/fitbit/distance.json  \n",
            "  inflating: /content/pmdata/p03/fitbit/exercise.json  \n",
            "  inflating: /content/pmdata/p03/fitbit/moderately_active_minutes.json  \n",
            "  inflating: /content/pmdata/p03/fitbit/lightly_active_minutes.json  \n",
            "  inflating: /content/pmdata/p03/fitbit/sedentary_minutes.json  \n",
            "  inflating: /content/pmdata/p03/fitbit/resting_heart_rate.json  \n",
            "  inflating: /content/pmdata/p03/fitbit/sleep_score.csv  \n",
            "  inflating: /content/pmdata/p03/fitbit/sleep.json  \n",
            "  inflating: /content/pmdata/p03/fitbit/steps.json  \n",
            "  inflating: /content/pmdata/p03/fitbit/time_in_heart_rate_zones.json  \n",
            "  inflating: /content/pmdata/p03/fitbit/very_active_minutes.json  \n",
            "  inflating: /content/pmdata/p03/googledocs/reporting.csv  \n",
            "  inflating: /content/pmdata/p03/pmsys/injury.csv  \n",
            "  inflating: /content/pmdata/p03/pmsys/srpe.csv  \n",
            "  inflating: /content/pmdata/p03/pmsys/wellness.csv  \n",
            "  inflating: /content/pmdata/p03/food-images/IMG_2588.jpg  \n",
            "  inflating: /content/pmdata/p03/food-images/IMG_2590.jpg  \n",
            "  inflating: /content/pmdata/p03/food-images/IMG_2589.jpg  \n",
            "  inflating: /content/pmdata/p03/food-images/IMG_2591.jpg  \n",
            "  inflating: /content/pmdata/p03/food-images/IMG_2592.jpg  \n",
            "  inflating: /content/pmdata/p03/food-images/IMG_2593.jpg  \n",
            "  inflating: /content/pmdata/p03/food-images/IMG_2594.jpg  \n",
            "  inflating: /content/pmdata/p03/food-images/IMG_2595.jpg  \n",
            "  inflating: /content/pmdata/p03/food-images/IMG_2599.jpg  \n",
            "  inflating: /content/pmdata/p03/food-images/IMG_2598.jpg  \n",
            "  inflating: /content/pmdata/p03/food-images/IMG_2597.jpg  \n",
            "  inflating: /content/pmdata/p03/food-images/IMG_2600.jpg  \n",
            "  inflating: /content/pmdata/p03/food-images/IMG_2601.jpg  \n",
            "  inflating: /content/pmdata/p03/food-images/IMG_2603.jpg  \n",
            "  inflating: /content/pmdata/p03/food-images/IMG_2604.jpg  \n",
            "  inflating: /content/pmdata/p03/food-images/IMG_2602.jpg  \n",
            "  inflating: /content/pmdata/p03/food-images/IMG_2606.jpg  \n",
            "  inflating: /content/pmdata/p03/food-images/IMG_2605.jpg  \n",
            "  inflating: /content/pmdata/p03/food-images/IMG_2608.jpg  \n",
            "  inflating: /content/pmdata/p03/food-images/IMG_2607.jpg  \n",
            "  inflating: /content/pmdata/p03/food-images/IMG_2609.jpg  \n",
            "  inflating: /content/pmdata/p03/food-images/IMG_2610.jpg  \n",
            "  inflating: /content/pmdata/p03/food-images/IMG_2611.jpg  \n",
            "  inflating: /content/pmdata/p03/food-images/IMG_2612.jpg  \n",
            "  inflating: /content/pmdata/p03/food-images/IMG_2613.jpg  \n",
            "  inflating: /content/pmdata/p03/food-images/IMG_2614.jpg  \n",
            "  inflating: /content/pmdata/p03/food-images/IMG_2615.jpg  \n",
            "  inflating: /content/pmdata/p03/food-images/IMG_2617.jpg  \n",
            "  inflating: /content/pmdata/p03/food-images/IMG_2618.jpg  \n",
            "  inflating: /content/pmdata/p03/food-images/IMG_2619.jpg  \n",
            "  inflating: /content/pmdata/p03/food-images/IMG_2622.jpg  \n",
            "  inflating: /content/pmdata/p03/food-images/IMG_2621.jpg  \n",
            "  inflating: /content/pmdata/p03/food-images/IMG_2620.jpg  \n",
            "  inflating: /content/pmdata/p03/food-images/IMG_2623.jpg  \n",
            "  inflating: /content/pmdata/p03/food-images/IMG_2624.jpg  \n",
            "  inflating: /content/pmdata/p03/food-images/IMG_2625.jpg  \n",
            "  inflating: /content/pmdata/p03/food-images/IMG_2627.jpg  \n",
            "  inflating: /content/pmdata/p03/food-images/IMG_2629.jpg  \n",
            "  inflating: /content/pmdata/p03/food-images/IMG_2628.jpg  \n",
            "  inflating: /content/pmdata/p03/food-images/IMG_2631.jpg  \n",
            "  inflating: /content/pmdata/p03/food-images/IMG_2630.jpg  \n",
            "  inflating: /content/pmdata/p03/food-images/IMG_2632.jpg  \n",
            "  inflating: /content/pmdata/p03/food-images/IMG_2633.jpg  \n",
            "  inflating: /content/pmdata/p03/food-images/IMG_2634.jpg  \n",
            "  inflating: /content/pmdata/p03/food-images/IMG_2636.jpg  \n",
            "  inflating: /content/pmdata/p03/food-images/IMG_2635.jpg  \n",
            "  inflating: /content/pmdata/p03/food-images/IMG_2637.jpg  \n",
            "  inflating: /content/pmdata/p03/food-images/IMG_2640.jpg  \n",
            "  inflating: /content/pmdata/p03/food-images/IMG_2639.jpg  \n",
            "  inflating: /content/pmdata/p03/food-images/IMG_2638.jpg  \n",
            "  inflating: /content/pmdata/p03/food-images/IMG_2643.jpg  \n",
            "  inflating: /content/pmdata/p03/food-images/IMG_2644.jpg  \n",
            "  inflating: /content/pmdata/p03/food-images/IMG_2645.jpg  \n",
            "  inflating: /content/pmdata/p03/food-images/IMG_2647.jpg  \n",
            "  inflating: /content/pmdata/p03/food-images/IMG_2648.jpg  \n",
            "  inflating: /content/pmdata/p03/food-images/IMG_2649.jpg  \n",
            "  inflating: /content/pmdata/p03/food-images/IMG_2651.jpg  \n",
            "  inflating: /content/pmdata/p03/food-images/IMG_2646.jpg  \n",
            "  inflating: /content/pmdata/p03/food-images/IMG_2655.jpg  \n",
            "  inflating: /content/pmdata/p03/food-images/IMG_2656.jpg  \n",
            "  inflating: /content/pmdata/p03/food-images/IMG_2652.jpg  \n",
            "  inflating: /content/pmdata/p03/food-images/IMG_2654.jpg  \n",
            "  inflating: /content/pmdata/p03/food-images/IMG_2653.jpg  \n",
            "  inflating: /content/pmdata/p03/food-images/IMG_2657.jpg  \n",
            "  inflating: /content/pmdata/p03/food-images/IMG_2661.jpg  \n",
            "  inflating: /content/pmdata/p03/food-images/IMG_2660.jpg  \n",
            "  inflating: /content/pmdata/p03/food-images/IMG_2659.jpg  \n",
            "  inflating: /content/pmdata/p03/food-images/IMG_2663.jpg  \n",
            "  inflating: /content/pmdata/p03/food-images/IMG_2668.jpg  \n",
            "  inflating: /content/pmdata/p03/food-images/IMG_2667.jpg  \n",
            "  inflating: /content/pmdata/p03/food-images/IMG_2664.jpg  \n",
            "  inflating: /content/pmdata/p03/food-images/IMG_2665.jpg  \n",
            "  inflating: /content/pmdata/p03/food-images/IMG_2669.jpg  \n",
            "  inflating: /content/pmdata/p03/food-images/IMG_2670.jpg  \n",
            "  inflating: /content/pmdata/p03/food-images/IMG_2673.jpg  \n",
            "  inflating: /content/pmdata/p03/food-images/IMG_2671.jpg  \n",
            "  inflating: /content/pmdata/p03/food-images/IMG_2674.jpg  \n",
            "  inflating: /content/pmdata/p03/food-images/IMG_2675.jpg  \n",
            "  inflating: /content/pmdata/p03/food-images/IMG_2676.jpg  \n",
            "  inflating: /content/pmdata/p03/food-images/IMG_2677.jpg  \n",
            "  inflating: /content/pmdata/p03/food-images/IMG_2678.jpg  \n",
            "  inflating: /content/pmdata/p03/food-images/IMG_2679.jpg  \n",
            "  inflating: /content/pmdata/p03/food-images/IMG_2683.jpg  \n",
            "  inflating: /content/pmdata/p03/food-images/IMG_2684.jpg  \n",
            "  inflating: /content/pmdata/p03/food-images/IMG_2682.jpg  \n",
            "  inflating: /content/pmdata/p03/food-images/IMG_2685.jpg  \n",
            "  inflating: /content/pmdata/p03/food-images/IMG_2686.jpg  \n",
            "  inflating: /content/pmdata/p03/food-images/IMG_2687.jpg  \n",
            "  inflating: /content/pmdata/p03/food-images/IMG_2689.jpg  \n",
            "  inflating: /content/pmdata/p03/food-images/IMG_2688.jpg  \n",
            "  inflating: /content/pmdata/p03/food-images/IMG_2690.jpg  \n",
            "  inflating: /content/pmdata/p03/food-images/IMG_2691.jpg  \n",
            "  inflating: /content/pmdata/p03/food-images/IMG_2693.jpg  \n",
            "  inflating: /content/pmdata/p03/food-images/IMG_2695.jpg  \n",
            "  inflating: /content/pmdata/p03/food-images/IMG_2694.jpg  \n",
            "  inflating: /content/pmdata/p03/food-images/IMG_2692.jpg  \n",
            "  inflating: /content/pmdata/p03/food-images/IMG_2696.jpg  \n",
            "  inflating: /content/pmdata/p03/food-images/IMG_2708.jpg  \n",
            "  inflating: /content/pmdata/p03/food-images/IMG_2706.jpg  \n",
            "  inflating: /content/pmdata/p03/food-images/IMG_2709.jpg  \n",
            "  inflating: /content/pmdata/p03/food-images/IMG_2707.jpg  \n",
            "  inflating: /content/pmdata/p03/food-images/IMG_2705.jpg  \n",
            "  inflating: /content/pmdata/p03/food-images/IMG_2714.jpg  \n",
            "  inflating: /content/pmdata/p03/food-images/IMG_2713.jpg  \n",
            "  inflating: /content/pmdata/p03/food-images/IMG_2715.jpg  \n",
            "  inflating: /content/pmdata/p03/food-images/IMG_2716.jpg  \n",
            "  inflating: /content/pmdata/p03/food-images/IMG_2717.jpg  \n",
            "  inflating: /content/pmdata/p03/food-images/IMG_2718.jpg  \n",
            "  inflating: /content/pmdata/p03/food-images/IMG_2720.jpg  \n",
            "  inflating: /content/pmdata/p03/food-images/IMG_2719.jpg  \n",
            "  inflating: /content/pmdata/p03/food-images/IMG_2721.jpg  \n",
            "  inflating: /content/pmdata/p03/food-images/IMG_2722.jpg  \n",
            "  inflating: /content/pmdata/p03/food-images/IMG_2724.jpg  \n",
            "  inflating: /content/pmdata/p03/food-images/IMG_2726.jpg  \n",
            "  inflating: /content/pmdata/p03/food-images/IMG_2729.jpg  \n",
            "  inflating: /content/pmdata/p03/food-images/IMG_2725.jpg  \n",
            "  inflating: /content/pmdata/p03/food-images/IMG_2730.jpg  \n",
            "  inflating: /content/pmdata/p03/food-images/IMG_2728.jpg  \n",
            "  inflating: /content/pmdata/p03/food-images/IMG_2732.jpg  \n",
            "  inflating: /content/pmdata/p03/food-images/IMG_2731.jpg  \n",
            "  inflating: /content/pmdata/p03/food-images/IMG_2733.jpg  \n",
            "  inflating: /content/pmdata/p03/food-images/IMG_2735.jpg  \n",
            "  inflating: /content/pmdata/p03/food-images/IMG_2734.jpg  \n",
            "  inflating: /content/pmdata/p03/food-images/IMG_2738.jpg  \n",
            "  inflating: /content/pmdata/p03/food-images/IMG_2740.jpg  \n",
            "  inflating: /content/pmdata/p03/food-images/IMG_2739.jpg  \n",
            "  inflating: /content/pmdata/p03/food-images/IMG_2737.jpg  \n",
            "  inflating: /content/pmdata/p03/food-images/IMG_2741.jpg  \n",
            "  inflating: /content/pmdata/p03/food-images/IMG_2745.jpg  \n",
            "  inflating: /content/pmdata/p03/food-images/IMG_2744.jpg  \n",
            "  inflating: /content/pmdata/p03/food-images/IMG_2743.jpg  \n",
            "  inflating: /content/pmdata/p03/food-images/IMG_2746.jpg  \n",
            "  inflating: /content/pmdata/p03/food-images/IMG_2747.jpg  \n",
            "  inflating: /content/pmdata/p03/food-images/IMG_2749.jpg  \n",
            "  inflating: /content/pmdata/p03/food-images/IMG_2750.jpg  \n",
            "  inflating: /content/pmdata/p03/food-images/IMG_2748.jpg  \n",
            "  inflating: /content/pmdata/p02/fitbit/heart_rate.json  \n",
            "  inflating: /content/pmdata/p02/fitbit/calories.json  \n",
            "  inflating: /content/pmdata/p02/fitbit/distance.json  \n",
            "  inflating: /content/pmdata/p02/fitbit/exercise.json  \n",
            "  inflating: /content/pmdata/p02/fitbit/lightly_active_minutes.json  \n",
            "  inflating: /content/pmdata/p02/fitbit/resting_heart_rate.json  \n",
            "  inflating: /content/pmdata/p02/fitbit/moderately_active_minutes.json  \n",
            "  inflating: /content/pmdata/p02/fitbit/steps.json  \n",
            "  inflating: /content/pmdata/p02/fitbit/sedentary_minutes.json  \n",
            "  inflating: /content/pmdata/p02/fitbit/sleep_score.csv  \n",
            "  inflating: /content/pmdata/p02/fitbit/sleep.json  \n",
            "  inflating: /content/pmdata/p02/fitbit/time_in_heart_rate_zones.json  \n",
            "  inflating: /content/pmdata/p02/fitbit/very_active_minutes.json  \n",
            "  inflating: /content/pmdata/p02/googledocs/reporting.csv  \n",
            "  inflating: /content/pmdata/p02/pmsys/injury.csv  \n",
            "  inflating: /content/pmdata/p02/pmsys/srpe.csv  \n",
            "  inflating: /content/pmdata/p02/pmsys/wellness.csv  \n",
            "  inflating: /content/pmdata/p01/googledocs/reporting.csv  \n",
            "  inflating: /content/pmdata/p01/fitbit/heart_rate.json  \n",
            "  inflating: /content/pmdata/p01/fitbit/calories.json  \n",
            "  inflating: /content/pmdata/p01/fitbit/distance.json  \n",
            "  inflating: /content/pmdata/p01/fitbit/exercise.json  \n",
            "  inflating: /content/pmdata/p01/fitbit/steps.json  \n",
            "  inflating: /content/pmdata/p01/fitbit/lightly_active_minutes.json  \n",
            "  inflating: /content/pmdata/p01/fitbit/moderately_active_minutes.json  \n",
            "  inflating: /content/pmdata/p01/fitbit/resting_heart_rate.json  \n",
            "  inflating: /content/pmdata/p01/fitbit/sedentary_minutes.json  \n",
            "  inflating: /content/pmdata/p01/fitbit/sleep_score.csv  \n",
            "  inflating: /content/pmdata/p01/fitbit/sleep.json  \n",
            "  inflating: /content/pmdata/p01/fitbit/very_active_minutes.json  \n",
            "  inflating: /content/pmdata/p01/fitbit/time_in_heart_rate_zones.json  \n",
            "  inflating: /content/pmdata/p01/pmsys/injury.csv  \n",
            "  inflating: /content/pmdata/p01/pmsys/srpe.csv  \n",
            "  inflating: /content/pmdata/p01/pmsys/wellness.csv  \n",
            "  inflating: /content/pmdata/p01/food-images/IMG_8916.jpeg  \n",
            "  inflating: /content/pmdata/p01/food-images/IMG_8917.jpeg  \n",
            "  inflating: /content/pmdata/p01/food-images/IMG_8918.jpeg  \n",
            "  inflating: /content/pmdata/p01/food-images/IMG_8920.jpeg  \n",
            "  inflating: /content/pmdata/p01/food-images/IMG_8923.jpeg  \n",
            "  inflating: /content/pmdata/p01/food-images/IMG_8922.jpeg  \n",
            "  inflating: /content/pmdata/p01/food-images/IMG_8927.jpeg  \n",
            "  inflating: /content/pmdata/p01/food-images/IMG_8921.jpeg  \n",
            "  inflating: /content/pmdata/p01/food-images/IMG_8928.jpeg  \n",
            "  inflating: /content/pmdata/p01/food-images/IMG_8958.jpeg  \n",
            "  inflating: /content/pmdata/p01/food-images/IMG_8957.jpeg  \n",
            "  inflating: /content/pmdata/p01/food-images/IMG_8929.jpeg  \n",
            "  inflating: /content/pmdata/p01/food-images/IMG_8959.jpeg  \n",
            "  inflating: /content/pmdata/p01/food-images/IMG_8960.jpeg  \n",
            "  inflating: /content/pmdata/p01/food-images/IMG_8961.jpeg  \n",
            "  inflating: /content/pmdata/p01/food-images/IMG_8962.jpeg  \n",
            "  inflating: /content/pmdata/p01/food-images/IMG_8963.jpeg  \n",
            "  inflating: /content/pmdata/p01/food-images/IMG_8964.jpeg  \n",
            "  inflating: /content/pmdata/p01/food-images/IMG_8965.jpeg  \n",
            "  inflating: /content/pmdata/p01/food-images/IMG_8968.jpeg  \n",
            "  inflating: /content/pmdata/p01/food-images/IMG_8967.jpeg  \n",
            "  inflating: /content/pmdata/p01/food-images/IMG_8966.jpeg  \n",
            "  inflating: /content/pmdata/p01/food-images/IMG_8972.jpeg  \n",
            "  inflating: /content/pmdata/p01/food-images/IMG_8969.jpeg  \n",
            "  inflating: /content/pmdata/p01/food-images/IMG_8970.jpeg  \n",
            "  inflating: /content/pmdata/p01/food-images/IMG_8973.jpeg  \n",
            "  inflating: /content/pmdata/p01/food-images/IMG_8975.jpeg  \n",
            "  inflating: /content/pmdata/p01/food-images/IMG_8981.jpeg  \n",
            "  inflating: /content/pmdata/p01/food-images/IMG_8980.jpeg  \n",
            "  inflating: /content/pmdata/p01/food-images/IMG_8977.jpeg  \n",
            "  inflating: /content/pmdata/p01/food-images/IMG_8982.jpeg  \n",
            "  inflating: /content/pmdata/p01/food-images/IMG_8983.jpeg  \n",
            "  inflating: /content/pmdata/p01/food-images/IMG_8984.jpeg  \n",
            "  inflating: /content/pmdata/p01/food-images/IMG_8985.jpeg  \n",
            "  inflating: /content/pmdata/p01/food-images/IMG_8996.jpeg  \n",
            "  inflating: /content/pmdata/p01/food-images/IMG_8999.jpeg  \n",
            "  inflating: /content/pmdata/p01/food-images/IMG_8986.jpeg  \n",
            "  inflating: /content/pmdata/p01/food-images/IMG_8998.jpeg  \n",
            "  inflating: /content/pmdata/p01/food-images/IMG_9001.jpeg  \n",
            "  inflating: /content/pmdata/p01/food-images/IMG_9002.jpeg  \n",
            "  inflating: /content/pmdata/p01/food-images/IMG_9005.jpeg  \n",
            "  inflating: /content/pmdata/p01/food-images/IMG_9003.jpeg  \n",
            "  inflating: /content/pmdata/p01/food-images/IMG_9006.jpeg  \n",
            "  inflating: /content/pmdata/p01/food-images/IMG_9007.jpeg  \n",
            "  inflating: /content/pmdata/p01/food-images/IMG_9008.jpeg  \n",
            "  inflating: /content/pmdata/p01/food-images/IMG_9009.jpeg  \n",
            "  inflating: /content/pmdata/p01/food-images/IMG_9010.jpeg  \n",
            "  inflating: /content/pmdata/p01/food-images/IMG_9011.jpeg  \n",
            "  inflating: /content/pmdata/p01/food-images/IMG_9013.jpeg  \n",
            "  inflating: /content/pmdata/p01/food-images/IMG_9012.jpeg  \n",
            "  inflating: /content/pmdata/p01/food-images/IMG_9015.jpeg  \n",
            "  inflating: /content/pmdata/p01/food-images/IMG_9020.jpeg  \n",
            "  inflating: /content/pmdata/p01/food-images/IMG_9014.jpeg  \n",
            "  inflating: /content/pmdata/p01/food-images/IMG_9021.jpeg  \n",
            "  inflating: /content/pmdata/p01/food-images/IMG_9022.jpeg  \n",
            "  inflating: /content/pmdata/p01/food-images/IMG_9023.jpeg  \n",
            "  inflating: /content/pmdata/p01/food-images/IMG_9024.jpeg  \n",
            "  inflating: /content/pmdata/p01/food-images/IMG_9025.jpeg  \n",
            "  inflating: /content/pmdata/p01/food-images/IMG_9026.jpeg  \n",
            "  inflating: /content/pmdata/p01/food-images/IMG_9029.jpeg  \n",
            "  inflating: /content/pmdata/p01/food-images/IMG_9028.jpeg  \n",
            "  inflating: /content/pmdata/p01/food-images/IMG_9030.jpeg  \n",
            "  inflating: /content/pmdata/p01/food-images/IMG_9033.jpeg  \n",
            "  inflating: /content/pmdata/p01/food-images/IMG_9032.jpeg  \n",
            "  inflating: /content/pmdata/p01/food-images/IMG_9034.jpeg  \n",
            "  inflating: /content/pmdata/p01/food-images/IMG_9035.jpeg  \n",
            "  inflating: /content/pmdata/p01/food-images/IMG_9036.jpeg  \n",
            "  inflating: /content/pmdata/p01/food-images/IMG_9038.jpeg  \n",
            "  inflating: /content/pmdata/p01/food-images/IMG_9037.jpeg  \n",
            "  inflating: /content/pmdata/p01/food-images/IMG_9040.jpeg  \n",
            "  inflating: /content/pmdata/p01/food-images/IMG_9039.jpeg  \n",
            "  inflating: /content/pmdata/p01/food-images/IMG_9041.jpeg  \n",
            "  inflating: /content/pmdata/p01/food-images/IMG_9043.jpeg  \n",
            "  inflating: /content/pmdata/p01/food-images/IMG_9042.jpeg  \n",
            "  inflating: /content/pmdata/p01/food-images/IMG_9044.jpeg  \n",
            "  inflating: /content/pmdata/p01/food-images/IMG_9046.jpeg  \n",
            "  inflating: /content/pmdata/p01/food-images/IMG_9048.jpeg  \n",
            "  inflating: /content/pmdata/p01/food-images/IMG_9047.jpeg  \n",
            "  inflating: /content/pmdata/p01/food-images/IMG_9050.jpeg  \n",
            "  inflating: /content/pmdata/p01/food-images/IMG_9049.jpeg  \n",
            "  inflating: /content/pmdata/p01/food-images/IMG_9052.jpeg  \n",
            "  inflating: /content/pmdata/p01/food-images/IMG_9051.jpeg  \n",
            "  inflating: /content/pmdata/p01/food-images/IMG_9053.jpeg  \n",
            "  inflating: /content/pmdata/p01/food-images/IMG_9054.jpeg  \n",
            "  inflating: /content/pmdata/p01/food-images/IMG_9057.jpeg  \n",
            "  inflating: /content/pmdata/p01/food-images/IMG_9058.jpeg  \n",
            "  inflating: /content/pmdata/p01/food-images/IMG_9059.jpeg  \n",
            "  inflating: /content/pmdata/p01/food-images/IMG_9061.jpeg  \n",
            "  inflating: /content/pmdata/p01/food-images/IMG_9060.jpeg  \n",
            "  inflating: /content/pmdata/p01/food-images/IMG_9062.jpeg  \n",
            "  inflating: /content/pmdata/p01/food-images/IMG_9063.jpeg  \n",
            "  inflating: /content/pmdata/p01/food-images/IMG_9064.jpeg  \n",
            "  inflating: /content/pmdata/p01/food-images/IMG_9065.jpeg  \n",
            "  inflating: /content/pmdata/p01/food-images/IMG_9068.jpeg  \n",
            "  inflating: /content/pmdata/p01/food-images/IMG_9066.jpeg  \n",
            "  inflating: /content/pmdata/p01/food-images/IMG_9067.jpeg  \n",
            "  inflating: /content/pmdata/p01/food-images/IMG_9069.jpeg  \n",
            "  inflating: /content/pmdata/p01/food-images/IMG_9072.jpeg  \n",
            "  inflating: /content/pmdata/p01/food-images/IMG_9075.jpeg  \n",
            "  inflating: /content/pmdata/p01/food-images/IMG_9073.jpeg  \n",
            "  inflating: /content/pmdata/p01/food-images/IMG_9074.jpeg  \n",
            "  inflating: /content/pmdata/p01/food-images/IMG_9078.jpeg  \n",
            "  inflating: /content/pmdata/p01/food-images/IMG_9082.jpeg  \n",
            "  inflating: /content/pmdata/p01/food-images/IMG_9083.jpeg  \n",
            "  inflating: /content/pmdata/p01/food-images/IMG_9084.jpeg  \n",
            "  inflating: /content/pmdata/p01/food-images/IMG_9085.jpeg  \n",
            "  inflating: /content/pmdata/p01/food-images/IMG_9089.jpeg  \n",
            "  inflating: /content/pmdata/p01/food-images/IMG_9088.jpeg  \n",
            "  inflating: /content/pmdata/p01/food-images/IMG_9092.jpeg  \n",
            "  inflating: /content/pmdata/p01/food-images/IMG_9091.jpeg  \n",
            "  inflating: /content/pmdata/p01/food-images/IMG_9093.jpeg  \n",
            "  inflating: /content/pmdata/p01/food-images/IMG_9096.jpeg  \n",
            "  inflating: /content/pmdata/p01/food-images/IMG_9098.jpeg  \n",
            "  inflating: /content/pmdata/p01/food-images/IMG_9094.jpeg  \n",
            "  inflating: /content/pmdata/p01/food-images/IMG_9099.jpeg  \n",
            "  inflating: /content/pmdata/p01/food-images/IMG_9101.jpeg  \n",
            "  inflating: /content/pmdata/p01/food-images/IMG_9102.jpeg  \n",
            "  inflating: /content/pmdata/p01/food-images/IMG_9104.jpeg  \n",
            "  inflating: /content/pmdata/p01/food-images/IMG_9106.jpeg  \n",
            "  inflating: /content/pmdata/p01/food-images/IMG_9108.jpeg  \n",
            "  inflating: /content/pmdata/p01/food-images/IMG_9107.jpeg  \n",
            "  inflating: /content/pmdata/p01/food-images/IMG_9109.jpeg  \n",
            "  inflating: /content/pmdata/p01/food-images/IMG_9111.png  \n",
            "  inflating: /content/pmdata/p01/food-images/IMG_9116.jpeg  \n",
            "  inflating: /content/pmdata/p01/food-images/IMG_9112.jpeg  \n",
            "  inflating: /content/pmdata/p01/food-images/IMG_9110.jpeg  \n",
            "  inflating: /content/pmdata/p01/food-images/IMG_9117.jpeg  \n",
            "  inflating: /content/pmdata/p01/food-images/IMG_9118.jpeg  \n",
            "  inflating: /content/pmdata/p01/food-images/IMG_9119.jpeg  \n",
            "  inflating: /content/pmdata/p01/food-images/IMG_9120.jpeg  \n",
            "  inflating: /content/pmdata/p01/food-images/IMG_9121.jpeg  \n",
            "  inflating: /content/pmdata/p01/food-images/IMG_9154.jpeg  \n",
            "  inflating: /content/pmdata/p01/food-images/IMG_9122.jpeg  \n",
            "  inflating: /content/pmdata/p01/food-images/IMG_9155.jpeg  \n",
            "  inflating: /content/pmdata/p01/food-images/IMG_9158.jpeg  \n",
            "  inflating: /content/pmdata/p01/food-images/IMG_9156.jpeg  \n",
            "  inflating: /content/pmdata/p01/food-images/IMG_9160.jpeg  \n",
            "  inflating: /content/pmdata/p01/food-images/IMG_9157.jpeg  \n",
            "  inflating: /content/pmdata/p01/food-images/IMG_9159.jpeg  \n",
            "  inflating: /content/pmdata/p01/food-images/IMG_9161.jpeg  \n",
            "  inflating: /content/pmdata/p01/food-images/IMG_9163.jpeg  \n",
            "  inflating: /content/pmdata/p01/food-images/IMG_9165.jpeg  \n",
            "  inflating: /content/pmdata/p01/food-images/IMG_9168.jpeg  \n",
            "  inflating: /content/pmdata/p01/food-images/IMG_9171.jpeg  \n",
            "  inflating: /content/pmdata/p01/food-images/IMG_9164.jpeg  \n",
            "  inflating: /content/pmdata/p01/food-images/IMG_9180.jpeg  \n",
            "  inflating: /content/pmdata/p01/food-images/IMG_9178.jpeg  \n",
            "  inflating: /content/pmdata/p01/food-images/IMG_9186.jpeg  \n",
            "  inflating: /content/pmdata/p01/food-images/IMG_9188.jpeg  \n",
            "  inflating: /content/pmdata/p01/food-images/IMG_9187.jpeg  \n",
            "  inflating: /content/pmdata/p01/food-images/IMG_9200.jpeg  \n",
            "  inflating: /content/pmdata/p01/food-images/IMG_9202.jpeg  \n",
            "  inflating: /content/pmdata/p01/food-images/IMG_9199.jpeg  \n",
            "  inflating: /content/pmdata/p01/food-images/IMG_9201.jpeg  \n",
            "  inflating: /content/pmdata/p01/food-images/IMG_9205.jpeg  \n",
            "  inflating: /content/pmdata/p01/food-images/IMG_9204.jpeg  \n",
            "  inflating: /content/pmdata/p01/food-images/IMG_9203.jpeg  \n",
            "  inflating: /content/pmdata/p01/food-images/IMG_9207.jpeg  \n",
            "  inflating: /content/pmdata/p01/food-images/IMG_9206.jpeg  \n",
            "  inflating: /content/pmdata/p01/food-images/IMG_9208.jpeg  \n",
            "  inflating: /content/pmdata/p01/food-images/IMG_9211.jpeg  \n",
            "  inflating: /content/pmdata/p01/food-images/IMG_9209.jpeg  \n",
            "  inflating: /content/pmdata/p01/food-images/IMG_9212.jpeg  \n",
            "  inflating: /content/pmdata/p01/food-images/IMG_9210.jpeg  \n",
            "  inflating: /content/pmdata/p01/food-images/IMG_9214.jpeg  \n",
            "  inflating: /content/pmdata/p01/food-images/IMG_9217.jpeg  \n",
            "  inflating: /content/pmdata/p01/food-images/IMG_9216.jpeg  \n",
            "  inflating: /content/pmdata/p01/food-images/IMG_9215.jpeg  \n",
            "  inflating: /content/pmdata/p01/food-images/IMG_9220.jpeg  \n",
            "  inflating: /content/pmdata/p01/food-images/IMG_9223.jpeg  \n",
            "  inflating: /content/pmdata/p01/food-images/IMG_9224.jpeg  \n",
            "  inflating: /content/pmdata/p01/food-images/IMG_9225.jpeg  \n",
            "  inflating: /content/pmdata/p01/food-images/IMG_9226.jpeg  \n",
            "  inflating: /content/pmdata/p01/food-images/IMG_9228.jpeg  \n",
            "  inflating: /content/pmdata/p01/food-images/IMG_9229.jpeg  \n",
            "  inflating: /content/pmdata/p01/food-images/IMG_9231.jpeg  \n",
            "  inflating: /content/pmdata/p01/food-images/IMG_9230.jpeg  \n",
            "  inflating: /content/pmdata/p01/food-images/IMG_9232.jpeg  \n",
            "  inflating: /content/pmdata/p01/food-images/IMG_9233.jpeg  \n",
            "  inflating: /content/pmdata/p01/food-images/IMG_9236.jpeg  \n",
            "  inflating: /content/pmdata/p01/food-images/IMG_9238.jpeg  \n",
            "  inflating: /content/pmdata/p01/food-images/IMG_9234.jpeg  \n",
            "  inflating: /content/pmdata/p01/food-images/IMG_9242.jpeg  \n",
            "  inflating: /content/pmdata/p01/food-images/IMG_9241.jpeg  \n",
            "  inflating: /content/pmdata/p01/food-images/IMG_9240.jpeg  \n",
            "  inflating: /content/pmdata/p01/food-images/IMG_9243.jpeg  \n",
            "  inflating: /content/pmdata/p01/food-images/IMG_9244.jpeg  \n",
            "  inflating: /content/pmdata/p01/food-images/IMG_9251.jpeg  \n",
            "  inflating: /content/pmdata/p01/food-images/IMG_9252.jpeg  \n",
            "  inflating: /content/pmdata/p01/food-images/IMG_9253.jpeg  \n",
            "  inflating: /content/pmdata/p01/food-images/IMG_9254.jpeg  \n",
            "  inflating: /content/pmdata/p01/food-images/IMG_9255.jpeg  \n",
            "  inflating: /content/pmdata/p01/food-images/IMG_9257.jpeg  \n",
            "  inflating: /content/pmdata/p01/food-images/IMG_9258.jpeg  \n",
            "  inflating: /content/pmdata/p01/food-images/IMG_9259.jpeg  \n",
            "  inflating: /content/pmdata/p01/food-images/IMG_9260.jpeg  \n",
            "  inflating: /content/pmdata/p01/food-images/IMG_9261.jpeg  \n",
            "  inflating: /content/pmdata/p01/food-images/IMG_9263.jpeg  \n",
            "  inflating: /content/pmdata/p01/food-images/IMG_9262.jpeg  \n",
            "  inflating: /content/pmdata/p01/food-images/IMG_9264.jpeg  \n",
            "  inflating: /content/pmdata/p01/food-images/IMG_9265.jpeg  \n",
            "  inflating: /content/pmdata/p01/food-images/IMG_9268.jpeg  \n",
            "  inflating: /content/pmdata/p01/food-images/IMG_9266.jpeg  \n",
            "  inflating: /content/pmdata/p01/food-images/IMG_9270.jpeg  \n",
            "  inflating: /content/pmdata/p01/food-images/IMG_9269.jpeg  \n",
            "  inflating: /content/pmdata/p01/food-images/IMG_9274.jpeg  \n",
            "  inflating: /content/pmdata/p01/food-images/IMG_9275.jpeg  \n",
            "  inflating: /content/pmdata/p01/food-images/IMG_9271.jpeg  \n",
            "  inflating: /content/pmdata/p01/food-images/IMG_9273.jpeg  \n",
            "  inflating: /content/pmdata/p01/food-images/IMG_9278.jpeg  \n",
            "  inflating: /content/pmdata/p01/food-images/IMG_9281.jpeg  \n",
            "  inflating: /content/pmdata/p01/food-images/IMG_9280.jpeg  \n",
            "  inflating: /content/pmdata/p01/food-images/IMG_9282.jpeg  \n",
            "  inflating: /content/pmdata/p01/food-images/IMG_9283.jpeg  \n",
            "  inflating: /content/pmdata/p01/food-images/IMG_9288.jpeg  \n",
            "  inflating: /content/pmdata/p01/food-images/IMG_9285.jpeg  \n",
            "  inflating: /content/pmdata/p01/food-images/IMG_9286.jpeg  \n",
            "  inflating: /content/pmdata/p01/food-images/IMG_9287.jpeg  \n",
            "  inflating: /content/pmdata/p01/food-images/IMG_9290.jpeg  \n",
            "  inflating: /content/pmdata/p01/food-images/IMG_9293.jpeg  \n",
            "  inflating: /content/pmdata/p01/food-images/IMG_9291.jpeg  \n",
            "  inflating: /content/pmdata/p01/food-images/IMG_9292.jpeg  \n",
            "  inflating: /content/pmdata/p01/food-images/IMG_9294.jpeg  \n",
            "  inflating: /content/pmdata/p01/food-images/IMG_9295.jpeg  \n",
            "  inflating: /content/pmdata/p01/food-images/IMG_9297.jpeg  \n",
            "  inflating: /content/pmdata/p01/food-images/IMG_9298.jpeg  \n",
            "  inflating: /content/pmdata/p01/food-images/IMG_9296.jpeg  \n",
            "  inflating: /content/pmdata/p01/food-images/IMG_9299.jpeg  \n",
            "  inflating: /content/pmdata/p01/food-images/IMG_9300.jpeg  \n",
            "  inflating: /content/pmdata/p01/food-images/IMG_9301.jpeg  \n",
            "  inflating: /content/pmdata/p01/food-images/IMG_9302.jpeg  \n",
            "  inflating: /content/pmdata/p01/food-images/IMG_9303.jpeg  \n",
            "  inflating: /content/pmdata/p01/food-images/IMG_9304.jpeg  \n",
            "  inflating: /content/pmdata/p01/food-images/IMG_9305.jpeg  \n",
            "  inflating: /content/pmdata/p01/food-images/IMG_9307.jpeg  \n",
            "  inflating: /content/pmdata/p01/food-images/IMG_9308.jpeg  \n",
            "  inflating: /content/pmdata/p01/food-images/IMG_9309.jpeg  \n",
            "  inflating: /content/pmdata/p01/food-images/IMG_9310.jpeg  \n",
            "  inflating: /content/pmdata/p01/food-images/IMG_9311.jpeg  \n",
            "  inflating: /content/pmdata/p01/food-images/IMG_9315.jpeg  \n",
            "  inflating: /content/pmdata/p01/food-images/IMG_9314.jpeg  \n",
            "  inflating: /content/pmdata/p01/food-images/IMG_9313.jpeg  \n",
            "  inflating: /content/pmdata/p01/food-images/IMG_9316.jpeg  \n",
            "  inflating: /content/pmdata/p01/food-images/IMG_9317.jpeg  \n",
            "  inflating: /content/pmdata/p01/food-images/IMG_9318.jpeg  \n",
            "  inflating: /content/pmdata/p01/food-images/IMG_9321.jpeg  \n",
            "  inflating: /content/pmdata/p01/food-images/IMG_9322.jpeg  \n",
            "  inflating: /content/pmdata/p01/food-images/IMG_9324.jpeg  \n",
            "  inflating: /content/pmdata/p01/food-images/IMG_9323.jpeg  \n",
            "  inflating: /content/pmdata/p01/food-images/IMG_9325.jpeg  \n",
            "  inflating: /content/pmdata/p01/food-images/IMG_9326.jpeg  \n",
            "  inflating: /content/pmdata/p01/food-images/IMG_9328.jpeg  \n",
            "  inflating: /content/pmdata/p01/food-images/IMG_9327.jpeg  \n",
            "  inflating: /content/pmdata/p01/food-images/IMG_9329.jpeg  \n",
            "  inflating: /content/pmdata/p01/food-images/IMG_9330.jpeg  \n",
            "  inflating: /content/pmdata/p01/food-images/IMG_9331.jpeg  \n",
            "  inflating: /content/pmdata/p01/food-images/IMG_9332.jpeg  \n",
            "  inflating: /content/pmdata/p01/food-images/IMG_9333.jpeg  \n",
            "  inflating: /content/pmdata/p01/food-images/IMG_9336.jpeg  \n",
            "  inflating: /content/pmdata/p01/food-images/IMG_9337.jpeg  \n",
            "  inflating: /content/pmdata/p01/food-images/IMG_9339.jpeg  \n",
            "  inflating: /content/pmdata/p01/food-images/IMG_9340.jpeg  \n",
            "  inflating: /content/pmdata/p01/food-images/IMG_9343.jpeg  \n",
            "  inflating: /content/pmdata/p01/food-images/IMG_9342.jpeg  \n",
            "  inflating: /content/pmdata/p01/food-images/IMG_9344.jpeg  \n",
            "  inflating: /content/pmdata/p01/food-images/IMG_9345.jpeg  \n",
            "  inflating: /content/pmdata/p01/food-images/IMG_9346.jpeg  \n",
            "  inflating: /content/pmdata/p01/food-images/IMG_9350.jpeg  \n",
            "  inflating: /content/pmdata/p01/food-images/IMG_9347.jpeg  \n",
            "  inflating: /content/pmdata/p01/food-images/IMG_9351.jpeg  \n",
            "  inflating: /content/pmdata/p01/food-images/IMG_9355.jpeg  \n",
            "  inflating: /content/pmdata/p01/food-images/IMG_9354.jpeg  \n",
            "  inflating: /content/pmdata/p01/food-images/IMG_9356.jpeg  \n",
            "  inflating: /content/pmdata/p01/food-images/IMG_9358.jpeg  \n",
            "  inflating: /content/pmdata/p01/food-images/IMG_9361.jpeg  \n",
            "  inflating: /content/pmdata/p01/food-images/IMG_9360.jpeg  \n",
            "  inflating: /content/pmdata/p01/food-images/IMG_9362.jpeg  \n",
            "  inflating: /content/pmdata/p01/food-images/IMG_9363.jpeg  \n",
            "  inflating: /content/pmdata/p01/food-images/IMG_9364.jpeg  \n",
            "  inflating: /content/pmdata/p01/food-images/IMG_9366.jpeg  \n",
            "  inflating: /content/pmdata/p01/food-images/IMG_9367.jpeg  \n",
            "  inflating: /content/pmdata/p01/food-images/IMG_9368.jpeg  \n",
            "  inflating: /content/pmdata/p01/food-images/IMG_9373.jpeg  \n",
            "  inflating: /content/pmdata/p01/food-images/IMG_9371.jpeg  \n",
            "  inflating: /content/pmdata/p01/food-images/IMG_9372.jpeg  \n",
            "  inflating: /content/pmdata/p01/food-images/IMG_9374.jpeg  \n",
            "  inflating: /content/pmdata/p01/food-images/IMG_9375.jpeg  \n",
            "  inflating: /content/pmdata/p01/food-images/IMG_9376.jpeg  \n",
            "  inflating: /content/pmdata/p01/food-images/IMG_9380.jpeg  \n",
            "  inflating: /content/pmdata/p01/food-images/IMG_9379.jpeg  \n",
            "  inflating: /content/pmdata/p01/food-images/IMG_9381.jpeg  \n",
            "  inflating: /content/pmdata/p01/food-images/IMG_9383.jpeg  \n",
            "  inflating: /content/pmdata/p01/food-images/IMG_9382.jpeg  \n",
            "  inflating: /content/pmdata/p01/food-images/IMG_9385.jpeg  \n",
            "  inflating: /content/pmdata/p01/food-images/IMG_9386.jpeg  \n",
            "  inflating: /content/pmdata/p01/food-images/IMG_9387.jpeg  \n",
            "  inflating: /content/pmdata/p01/food-images/IMG_9388.jpeg  \n",
            "  inflating: /content/pmdata/p01/food-images/IMG_9394.jpeg  \n",
            "  inflating: /content/pmdata/p01/food-images/IMG_9390.jpeg  \n",
            "  inflating: /content/pmdata/p01/food-images/IMG_9389.jpeg  \n",
            "  inflating: /content/pmdata/p01/food-images/IMG_9396.jpeg  \n",
            "  inflating: /content/pmdata/p01/food-images/IMG_9397.jpeg  \n",
            "  inflating: /content/pmdata/p01/food-images/IMG_9395.jpeg  \n",
            "  inflating: /content/pmdata/p01/food-images/IMG_9398.jpeg  \n",
            "  inflating: /content/pmdata/p01/food-images/IMG_9399.jpeg  \n",
            "  inflating: /content/pmdata/p01/food-images/IMG_9400.jpeg  \n",
            "  inflating: /content/pmdata/p01/food-images/IMG_9401.jpeg  \n",
            "  inflating: /content/pmdata/p01/food-images/IMG_9403.jpeg  \n",
            "  inflating: /content/pmdata/p01/food-images/IMG_9404.jpeg  \n",
            "  inflating: /content/pmdata/p01/food-images/IMG_9405.jpeg  \n",
            "  inflating: /content/pmdata/p01/food-images/IMG_9406.jpeg  \n",
            "  inflating: /content/pmdata/p01/food-images/IMG_9408.jpeg  \n",
            "  inflating: /content/pmdata/p01/food-images/IMG_9407.jpeg  \n",
            "  inflating: /content/pmdata/p01/food-images/IMG_9409.jpeg  \n",
            "  inflating: /content/pmdata/p01/food-images/IMG_9410.jpeg  \n",
            "  inflating: /content/pmdata/p01/food-images/IMG_9411.jpeg  \n",
            "  inflating: /content/pmdata/p01/food-images/IMG_9413.jpeg  \n",
            "  inflating: /content/pmdata/p01/food-images/IMG_9412.jpeg  \n",
            "  inflating: /content/pmdata/p01/food-images/IMG_9414.jpeg  \n",
            "  inflating: /content/pmdata/p01/food-images/IMG_9415.jpeg  \n",
            "  inflating: /content/pmdata/p01/food-images/IMG_9462.jpeg  \n"
          ]
        }
      ],
      "source": [
        "#4.unzip the file\n",
        "!unzip \"/content/drive/My Drive/pmdata.zip\" -d /content/pmdata"
      ]
    },
    {
      "cell_type": "code",
      "execution_count": null,
      "metadata": {
        "colab": {
          "base_uri": "https://localhost:8080/"
        },
        "id": "FWTgH0RoiyHy",
        "outputId": "c9a40912-e0b0-4520-dfcd-4a5206ba8544"
      },
      "outputs": [
        {
          "output_type": "execute_result",
          "data": {
            "text/plain": [
              "['p01',\n",
              " 'p14',\n",
              " 'p07',\n",
              " 'p09',\n",
              " 'p15',\n",
              " 'participant-overview.xlsx',\n",
              " 'p10',\n",
              " 'p16',\n",
              " 'p08',\n",
              " 'p12',\n",
              " 'p03',\n",
              " 'p11',\n",
              " 'p13',\n",
              " 'p04',\n",
              " 'p02',\n",
              " 'p05',\n",
              " 'p06']"
            ]
          },
          "metadata": {},
          "execution_count": 67
        }
      ],
      "source": [
        "#5.checking that all files were extracted\n",
        "import os\n",
        "os.listdir(\"/content/pmdata\")"
      ]
    },
    {
      "cell_type": "code",
      "execution_count": null,
      "metadata": {
        "id": "6EkNACpn_X9L"
      },
      "outputs": [],
      "source": [
        "# 6.Start Spark Session\n",
        "spark = SparkSession.builder.appName(\"MergePMData_TeacherStyle\").getOrCreate()"
      ]
    },
    {
      "cell_type": "code",
      "execution_count": null,
      "metadata": {
        "id": "vefIY2bnJu_-"
      },
      "outputs": [],
      "source": [
        "# 7.Define base path and file paths to merge\n",
        "base_path = \"/content/pmdata\"\n",
        "file_paths = {\n",
        "    \"sleep\": [\"fitbit\", \"sleep_score.csv\"],\n",
        "    \"wellness\": [\"pmsys\", \"wellness.csv\"],\n",
        "    \"injury\": [\"pmsys\", \"injury.csv\"],\n",
        "    \"srpe\": [\"pmsys\", \"srpe.csv\"],\n",
        "}"
      ]
    },
    {
      "cell_type": "code",
      "execution_count": null,
      "metadata": {
        "id": "XLjdrhYOJvCm"
      },
      "outputs": [],
      "source": [
        "#8.Merge files and add participant_id\n",
        "merged_dfs = {}  # This will hold the final merged data for each file\n",
        "\n",
        "# Go through each file we want to merge\n",
        "for name, rel_path in file_paths.items():\n",
        "    dfs = []  # This will store data from all participants for this file\n",
        "\n",
        "    # Go through each participant folder\n",
        "    for pid in os.listdir(base_path):\n",
        "        # Build the path to the specific file\n",
        "        full_path = os.path.join(base_path, pid, *rel_path)\n",
        "\n",
        "        # Only read the file if it actually exists\n",
        "        if os.path.exists(full_path):\n",
        "            # Read the file into a Spark DataFrame\n",
        "            df = spark.read.option(\"header\", True).option(\"inferSchema\", True).csv(full_path)\n",
        "\n",
        "            # Add a column to know which participant this data belongs to\n",
        "            df = df.withColumn(\"participant_id\", lit(pid))\n",
        "\n",
        "            # Add this participant's data to the list\n",
        "            dfs.append(df)\n",
        "\n",
        "    # Once all participant files are read, merge them into one DataFrame\n",
        "    if dfs:\n",
        "        merged_df = dfs[0]  # Start with the first one\n",
        "        for df in dfs[1:]:  # Add the rest\n",
        "            merged_df = merged_df.unionByName(df)\n",
        "\n",
        "        # Save the merged result for this file (like sleep or wellness)\n",
        "        merged_dfs[name] = merged_df\n"
      ]
    },
    {
      "cell_type": "code",
      "execution_count": null,
      "metadata": {
        "id": "cHThgxHuFtVv"
      },
      "outputs": [],
      "source": [
        "#9.Rename date-related columns to \"Date\" so that they align for joining\n",
        "# Sleep\n",
        "if \"sleep\" in merged_dfs and \"timestamp\" in merged_dfs[\"sleep\"].columns:\n",
        "    merged_dfs[\"sleep\"] = merged_dfs[\"sleep\"].withColumnRenamed(\"timestamp\", \"Date\")\n",
        "\n",
        "# Wellness\n",
        "if \"wellness\" in merged_dfs and \"effective_time_frame\" in merged_dfs[\"wellness\"].columns:\n",
        "    merged_dfs[\"wellness\"] = merged_dfs[\"wellness\"].withColumnRenamed(\"effective_time_frame\", \"Date\")\n",
        "\n",
        "# SRPE\n",
        "if \"srpe\" in merged_dfs and \"end_date_time\" in merged_dfs[\"srpe\"].columns:\n",
        "    merged_dfs[\"srpe\"] = merged_dfs[\"srpe\"].withColumnRenamed(\"end_date_time\", \"Date\")\n",
        "\n",
        "# Injury\n",
        "if \"injury\" in merged_dfs and \"effective_time_frame\" in merged_dfs[\"injury\"].columns:\n",
        "    merged_dfs[\"injury\"] = merged_dfs[\"injury\"].withColumnRenamed(\"effective_time_frame\", \"Date\")\n"
      ]
    },
    {
      "cell_type": "code",
      "execution_count": null,
      "metadata": {
        "id": "TBzXIj_HG5ws"
      },
      "outputs": [],
      "source": [
        "#10.Extract only the date part (remove time)\n",
        "for key in merged_dfs:\n",
        "    if \"Date\" in merged_dfs[key].columns:\n",
        "        merged_dfs[key] = merged_dfs[key].withColumn(\"Date\", to_date(\"Date\"))"
      ]
    },
    {
      "cell_type": "code",
      "execution_count": null,
      "metadata": {
        "id": "JHT9lOcuJvK5"
      },
      "outputs": [],
      "source": [
        "#11.Perform INNER JOIN on participant_id and Date\n",
        "# Start with sleep and wellness\n",
        "df_final = merged_dfs[\"sleep\"].join(merged_dfs[\"wellness\"], on=[\"participant_id\", \"Date\"], how=\"inner\")\n",
        "\n",
        "# Then join srpe\n",
        "if \"srpe\" in merged_dfs:\n",
        " df_final = df_final.join(merged_dfs[\"srpe\"], on=[\"participant_id\", \"Date\"], how=\"left\")\n",
        "\n",
        "# Then join injury\n",
        "if \"injury\" in merged_dfs:\n",
        "    df_final = df_final.join(merged_dfs[\"injury\"], on=[\"participant_id\", \"Date\"], how=\"left\")\n",
        "\n"
      ]
    },
    {
      "cell_type": "markdown",
      "metadata": {
        "id": "q3OK8EwTNHql"
      },
      "source": [
        "# **Cleaning Data**"
      ]
    },
    {
      "cell_type": "code",
      "execution_count": null,
      "metadata": {
        "id": "kXUl3VdKJvOg"
      },
      "outputs": [],
      "source": [
        "#12.Drop duplicates\n",
        "df_final = df_final.dropDuplicates()"
      ]
    },
    {
      "cell_type": "code",
      "execution_count": null,
      "metadata": {
        "colab": {
          "base_uri": "https://localhost:8080/"
        },
        "id": "NFPZhTRxGO_m",
        "outputId": "df99f4cb-96f0-4467-a8c1-1a17c0d0518f"
      },
      "outputs": [
        {
          "output_type": "stream",
          "name": "stdout",
          "text": [
            "participant_id       0\n",
            "Date                 0\n",
            "sleep_log_entry_id   0\n",
            "overall_score        0\n",
            "composition_score    0\n",
            "revitalization_score 0\n",
            "duration_score       0\n",
            "deep_sleep_in_minutes 0\n",
            "resting_heart_rate   0\n",
            "restlessness         0\n",
            "fatigue              0\n",
            "mood                 0\n",
            "readiness            0\n",
            "sleep_duration_h     0\n",
            "sleep_quality        0\n",
            "soreness             0\n",
            "soreness_area        0\n",
            "stress               0\n",
            "activity_names       913\n",
            "perceived_exertion   923\n",
            "duration_min         923\n",
            "injuries             1378\n"
          ]
        }
      ],
      "source": [
        "#Count the number of missing values per column\n",
        "for col in df_final.columns:\n",
        "   print(col.ljust(20), df_final.filter(df_final[col].isNull()).count())"
      ]
    },
    {
      "cell_type": "code",
      "execution_count": null,
      "metadata": {
        "id": "YDJfF1eFKTkO"
      },
      "outputs": [],
      "source": [
        "#13.Handle missing values\n",
        "df_final = df_final.fillna(\"Unknown\")"
      ]
    },
    {
      "cell_type": "code",
      "execution_count": null,
      "metadata": {
        "id": "ZMYXuoIuKTnG"
      },
      "outputs": [],
      "source": [
        " #14.Save final dataset to CSV\n",
        "\n",
        " # if it's your first time performung the code perform this\n",
        " #df_final.write.option(\"header\", True).csv(\"/content/combined_dataset.csv\")\n",
        "\n",
        " #otherwise this code\n",
        "df_final.write.mode(\"overwrite\").option(\"header\", True).csv(\"/content/combined_dataset.csv\")"
      ]
    },
    {
      "cell_type": "code",
      "execution_count": null,
      "metadata": {
        "colab": {
          "base_uri": "https://localhost:8080/"
        },
        "id": "E0WQNthAKTqq",
        "outputId": "67ff7919-564e-46fb-844c-67febd0ed743"
      },
      "outputs": [
        {
          "output_type": "stream",
          "name": "stdout",
          "text": [
            "+--------------+----------+------------------+-------------+-----------------+--------------------+--------------+---------------------+------------------+--------------------+-------+----+---------+----------------+-------------+--------+--------------------+------+--------------------+------------------+------------+--------------------+\n",
            "|participant_id|      Date|sleep_log_entry_id|overall_score|composition_score|revitalization_score|duration_score|deep_sleep_in_minutes|resting_heart_rate|        restlessness|fatigue|mood|readiness|sleep_duration_h|sleep_quality|soreness|       soreness_area|stress|      activity_names|perceived_exertion|duration_min|            injuries|\n",
            "+--------------+----------+------------------+-------------+-----------------+--------------------+--------------+---------------------+------------------+--------------------+-------+----+---------+----------------+-------------+--------+--------------------+------+--------------------+------------------+------------+--------------------+\n",
            "|           p01|2020-02-27|       26089770765|           68|               20|                  14|            34|                   36|                53| 0.06713286713286713|      2|   3|        6|               5|            3|       2|[48979004, 32696007]|     3|  ['team', 'soccer']|                 7|          80|                  {}|\n",
            "|           p01|2020-01-04|       25272136870|           78|               16|                  20|            42|                   16|                51|  0.0674373795761079|      2|   2|        5|               7|            3|       2|[48979004, 12921003]|     3|['individual', 'r...|                 6|          50|                  {}|\n",
            "|           p01|2020-01-14|       25430218066|           75|               17|                  20|            38|                   19|                52| 0.10479797979797979|      3|   3|        7|               6|            3|       3|                  []|     3|['individual', 'r...|                 7|          30|                  {}|\n",
            "|           p01|2020-02-06|       25781305187|           72|               15|                  23|            34|                   32|                53|  0.0754985754985755|      3|   3|        6|               5|            3|       2|[48979004, 326960...|     3|['individual', 'r...|                 6|          30|                  {}|\n",
            "|           p01|2020-01-23|       25563369863|           71|               17|                  17|            37|                    9|                50|0.057104913678618856|      3|   3|        6|               5|            3|       3|                  []|     3|  ['team', 'soccer']|                 6|          70|                  {}|\n",
            "|           p01|2020-01-07|       25313751473|           66|               17|                  15|            34|                   12|                51| 0.05738880918220947|      2|   3|        6|               5|            2|       2|          [48979004]|     3|['individual', 'r...|                 6|          30|{'right_hand': 'm...|\n",
            "|           p01|2020-02-06|       25781305187|           72|               15|                  23|            34|                   32|                53|  0.0754985754985755|      3|   3|        6|               5|            3|       2|[48979004, 326960...|     3|  ['team', 'soccer']|                 6|          80|                  {}|\n",
            "|           p01|2019-11-18|       24676261766|           72|               16|                  21|            35|                    8|                51| 0.09165526675786594|      2|   3|        8|               5|            2|       2|          [12921003]|     2|['individual', 'e...|                 6|          50|                  {}|\n",
            "|           p14|2020-01-06|       25296725887|           82|               17|                  21|            44|                   65|                72| 0.10686359687228497|      4|   3|        8|               8|            4|       4|                  []|     3|['individual', 's...|                 6|          20|                  {}|\n",
            "|           p14|2019-12-09|       24940304170|           75|               16|                  17|            42|                   51|                66|   0.112141652613828|      4|   4|        8|               8|            4|       4|                  []|     3|['individual', 's...|                 6|          50|                  {}|\n",
            "+--------------+----------+------------------+-------------+-----------------+--------------------+--------------+---------------------+------------------+--------------------+-------+----+---------+----------------+-------------+--------+--------------------+------+--------------------+------------------+------------+--------------------+\n",
            "only showing top 10 rows\n",
            "\n"
          ]
        }
      ],
      "source": [
        "#15.Show result\n",
        "df_final.show(10)"
      ]
    },
    {
      "cell_type": "code",
      "execution_count": null,
      "metadata": {
        "id": "gssR4DrouqIh"
      },
      "outputs": [],
      "source": [
        "# user only record when they are injured\n",
        "from pyspark.sql.functions import when, col\n",
        "\n",
        "df_final = df_final.withColumn(\n",
        "    \"injuries\",\n",
        "    when(col(\"injuries\").isNull() | (col(\"injuries\") == \"Unknown\"), \"No Injury\")\n",
        "    .otherwise(col(\"injuries\"))\n",
        ")\n"
      ]
    },
    {
      "cell_type": "markdown",
      "metadata": {
        "id": "aSnfe-tmOu4S"
      },
      "source": [
        "## **EDA**"
      ]
    },
    {
      "cell_type": "code",
      "execution_count": null,
      "metadata": {
        "colab": {
          "base_uri": "https://localhost:8080/"
        },
        "id": "yOD7kSiPBDJ6",
        "outputId": "618ca9d7-0aab-46f2-a4bf-c08e0d29515b"
      },
      "outputs": [
        {
          "output_type": "stream",
          "name": "stdout",
          "text": [
            "Number of rows: \t 1521\n",
            "Number of columns: \t 22\n"
          ]
        }
      ],
      "source": [
        "#16.Count Rows and Columns\n",
        "print('Number of rows: \\t', df_final.count())\n",
        "print('Number of columns: \\t', len(df_final.columns))"
      ]
    },
    {
      "cell_type": "code",
      "execution_count": null,
      "metadata": {
        "colab": {
          "base_uri": "https://localhost:8080/"
        },
        "id": "J0IrpkqxBDM0",
        "outputId": "b997a3a4-d937-4ce4-e1c8-887b9af8b221"
      },
      "outputs": [
        {
          "output_type": "execute_result",
          "data": {
            "text/plain": [
              "['participant_id',\n",
              " 'Date',\n",
              " 'sleep_log_entry_id',\n",
              " 'overall_score',\n",
              " 'composition_score',\n",
              " 'revitalization_score',\n",
              " 'duration_score',\n",
              " 'deep_sleep_in_minutes',\n",
              " 'resting_heart_rate',\n",
              " 'restlessness',\n",
              " 'fatigue',\n",
              " 'mood',\n",
              " 'readiness',\n",
              " 'sleep_duration_h',\n",
              " 'sleep_quality',\n",
              " 'soreness',\n",
              " 'soreness_area',\n",
              " 'stress',\n",
              " 'activity_names',\n",
              " 'perceived_exertion',\n",
              " 'duration_min',\n",
              " 'injuries']"
            ]
          },
          "metadata": {},
          "execution_count": 81
        }
      ],
      "source": [
        "#17.Coulmns names\n",
        "df_final.columns"
      ]
    },
    {
      "cell_type": "code",
      "execution_count": null,
      "metadata": {
        "colab": {
          "base_uri": "https://localhost:8080/"
        },
        "id": "gtcUAbSvK65b",
        "outputId": "e9d418cb-b440-4d21-df71-0425861c2b30"
      },
      "outputs": [
        {
          "output_type": "execute_result",
          "data": {
            "text/plain": [
              "[('participant_id', 'string'),\n",
              " ('Date', 'date'),\n",
              " ('sleep_log_entry_id', 'bigint'),\n",
              " ('overall_score', 'int'),\n",
              " ('composition_score', 'int'),\n",
              " ('revitalization_score', 'int'),\n",
              " ('duration_score', 'int'),\n",
              " ('deep_sleep_in_minutes', 'int'),\n",
              " ('resting_heart_rate', 'int'),\n",
              " ('restlessness', 'double'),\n",
              " ('fatigue', 'int'),\n",
              " ('mood', 'int'),\n",
              " ('readiness', 'int'),\n",
              " ('sleep_duration_h', 'int'),\n",
              " ('sleep_quality', 'int'),\n",
              " ('soreness', 'int'),\n",
              " ('soreness_area', 'string'),\n",
              " ('stress', 'int'),\n",
              " ('activity_names', 'string'),\n",
              " ('perceived_exertion', 'string'),\n",
              " ('duration_min', 'string'),\n",
              " ('injuries', 'string')]"
            ]
          },
          "metadata": {},
          "execution_count": 82
        }
      ],
      "source": [
        "#column types\n",
        "df_final.dtypes"
      ]
    },
    {
      "cell_type": "code",
      "execution_count": null,
      "metadata": {
        "colab": {
          "base_uri": "https://localhost:8080/"
        },
        "id": "9J7pha7KBDPw",
        "outputId": "0137579e-a22b-4799-a8b5-f0fef5cd38d8"
      },
      "outputs": [
        {
          "output_type": "stream",
          "name": "stdout",
          "text": [
            "+--------------+\n",
            "|participant_id|\n",
            "+--------------+\n",
            "|           p01|\n",
            "|           p02|\n",
            "|           p03|\n",
            "|           p04|\n",
            "|           p05|\n",
            "|           p06|\n",
            "|           p07|\n",
            "|           p08|\n",
            "|           p09|\n",
            "|           p10|\n",
            "|           p11|\n",
            "|           p12|\n",
            "|           p13|\n",
            "|           p14|\n",
            "|           p15|\n",
            "|           p16|\n",
            "+--------------+\n",
            "\n"
          ]
        }
      ],
      "source": [
        "#18.show participants id in increasing order\n",
        "df_final.select(\"participant_id\").distinct().orderBy(\"participant_id\").show()"
      ]
    },
    {
      "cell_type": "code",
      "execution_count": null,
      "metadata": {
        "colab": {
          "base_uri": "https://localhost:8080/"
        },
        "id": "eGZfvsBdJfSl",
        "outputId": "3875552a-28f1-4dbe-faa9-633773f97d33"
      },
      "outputs": [
        {
          "output_type": "stream",
          "name": "stdout",
          "text": [
            "root\n",
            " |-- participant_id: string (nullable = false)\n",
            " |-- Date: date (nullable = true)\n",
            " |-- sleep_log_entry_id: long (nullable = true)\n",
            " |-- overall_score: integer (nullable = true)\n",
            " |-- composition_score: integer (nullable = true)\n",
            " |-- revitalization_score: integer (nullable = true)\n",
            " |-- duration_score: integer (nullable = true)\n",
            " |-- deep_sleep_in_minutes: integer (nullable = true)\n",
            " |-- resting_heart_rate: integer (nullable = true)\n",
            " |-- restlessness: double (nullable = true)\n",
            " |-- fatigue: integer (nullable = true)\n",
            " |-- mood: integer (nullable = true)\n",
            " |-- readiness: integer (nullable = true)\n",
            " |-- sleep_duration_h: integer (nullable = true)\n",
            " |-- sleep_quality: integer (nullable = true)\n",
            " |-- soreness: integer (nullable = true)\n",
            " |-- soreness_area: string (nullable = false)\n",
            " |-- stress: integer (nullable = true)\n",
            " |-- activity_names: string (nullable = false)\n",
            " |-- perceived_exertion: string (nullable = false)\n",
            " |-- duration_min: string (nullable = false)\n",
            " |-- injuries: string (nullable = false)\n",
            "\n",
            "+--------------+----------+------------------+-------------+-----------------+--------------------+--------------+---------------------+------------------+--------------------+-------+----+---------+----------------+-------------+--------+--------------------+------+--------------------+------------------+------------+--------+\n",
            "|participant_id|      Date|sleep_log_entry_id|overall_score|composition_score|revitalization_score|duration_score|deep_sleep_in_minutes|resting_heart_rate|        restlessness|fatigue|mood|readiness|sleep_duration_h|sleep_quality|soreness|       soreness_area|stress|      activity_names|perceived_exertion|duration_min|injuries|\n",
            "+--------------+----------+------------------+-------------+-----------------+--------------------+--------------+---------------------+------------------+--------------------+-------+----+---------+----------------+-------------+--------+--------------------+------+--------------------+------------------+------------+--------+\n",
            "|           p01|2020-02-27|       26089770765|           68|               20|                  14|            34|                   36|                53| 0.06713286713286713|      2|   3|        6|               5|            3|       2|[48979004, 32696007]|     3|  ['team', 'soccer']|                 7|          80|      {}|\n",
            "|           p01|2020-01-04|       25272136870|           78|               16|                  20|            42|                   16|                51|  0.0674373795761079|      2|   2|        5|               7|            3|       2|[48979004, 12921003]|     3|['individual', 'r...|                 6|          50|      {}|\n",
            "|           p01|2020-01-14|       25430218066|           75|               17|                  20|            38|                   19|                52| 0.10479797979797979|      3|   3|        7|               6|            3|       3|                  []|     3|['individual', 'r...|                 7|          30|      {}|\n",
            "|           p01|2020-02-06|       25781305187|           72|               15|                  23|            34|                   32|                53|  0.0754985754985755|      3|   3|        6|               5|            3|       2|[48979004, 326960...|     3|['individual', 'r...|                 6|          30|      {}|\n",
            "|           p01|2020-01-23|       25563369863|           71|               17|                  17|            37|                    9|                50|0.057104913678618856|      3|   3|        6|               5|            3|       3|                  []|     3|  ['team', 'soccer']|                 6|          70|      {}|\n",
            "+--------------+----------+------------------+-------------+-----------------+--------------------+--------------+---------------------+------------------+--------------------+-------+----+---------+----------------+-------------+--------+--------------------+------+--------------------+------------------+------------+--------+\n",
            "only showing top 5 rows\n",
            "\n"
          ]
        }
      ],
      "source": [
        "#19 Display schema and first few rows\n",
        "df_final.printSchema()\n",
        "df_final.orderBy(\"participant_id\").show(5)"
      ]
    },
    {
      "cell_type": "code",
      "execution_count": null,
      "metadata": {
        "colab": {
          "base_uri": "https://localhost:8080/"
        },
        "id": "QzCqP7GWBDSj",
        "outputId": "762e0d2f-7522-4afc-a9d9-a69039e5b8be"
      },
      "outputs": [
        {
          "output_type": "stream",
          "name": "stdout",
          "text": [
            "+-------+--------------+-------------------+------------------+------------------+--------------------+------------------+---------------------+------------------+--------------------+-----------------+------------------+------------------+------------------+------------------+------------------+--------------------+-----------------+--------------------+------------------+------------------+---------+\n",
            "|summary|participant_id| sleep_log_entry_id|     overall_score| composition_score|revitalization_score|    duration_score|deep_sleep_in_minutes|resting_heart_rate|        restlessness|          fatigue|              mood|         readiness|  sleep_duration_h|     sleep_quality|          soreness|       soreness_area|           stress|      activity_names|perceived_exertion|      duration_min| injuries|\n",
            "+-------+--------------+-------------------+------------------+------------------+--------------------+------------------+---------------------+------------------+--------------------+-----------------+------------------+------------------+------------------+------------------+------------------+--------------------+-----------------+--------------------+------------------+------------------+---------+\n",
            "|  count|          1521|               1521|              1521|              1521|                1521|              1521|                 1521|              1521|                1521|             1521|              1521|              1521|              1521|              1521|              1521|                1521|             1521|                1521|              1521|              1521|     1521|\n",
            "|   mean|          NULL|2.54528826083879E10| 76.58251150558843|19.239973701512163|  18.974358974358974|38.368178829717294|       72.77580539119|58.661406969099275|  0.0885181145197271|2.706114398422091|3.2209072978303745|  4.92965154503616| 6.752136752136752| 3.044707429322814| 2.824457593688363|                NULL|2.921104536489152|                NULL| 5.620401337792642|61.020066889632105|     NULL|\n",
            "| stddev|          NULL|5.694631448327179E8|7.4539769853894935|2.3746758226052296|   3.253944974140901| 4.866900819726197|   27.003685782032345| 7.091628895222647| 0.03575787472912984|0.668675603876933| 0.647756831774996|1.9045431686183547|1.3192789985531455|0.7621644623278881|0.5983146161877904|                NULL|0.726623655747079|                NULL|1.7454564629685867|33.064521442476256|     NULL|\n",
            "|    min|           p01|        24472394143|                45|                12|                   8|                15|                    0|                44|0.015384615384615385|                0|                 0|                 0|                 0|                 0|                 0|[12921003, 229430...|                0|                  {}|                 1|               100|No Injury|\n",
            "|    max|           p16|        26543161791|                93|                25|                  25|                47|                  178|                76|  0.2508361204013378|                5|                 5|                10|                12|                 5|                 5|                  []|                5|['team', 'strength']|           Unknown|           Unknown|       {}|\n",
            "+-------+--------------+-------------------+------------------+------------------+--------------------+------------------+---------------------+------------------+--------------------+-----------------+------------------+------------------+------------------+------------------+------------------+--------------------+-----------------+--------------------+------------------+------------------+---------+\n",
            "\n"
          ]
        }
      ],
      "source": [
        "#20 Summary statistics for numerical features\n",
        "df_final.describe().show()"
      ]
    },
    {
      "cell_type": "code",
      "execution_count": null,
      "metadata": {
        "colab": {
          "base_uri": "https://localhost:8080/"
        },
        "id": "YRN6E9HQIyKN",
        "outputId": "d32da670-e5de-423b-e777-b0a733c36569"
      },
      "outputs": [
        {
          "output_type": "stream",
          "name": "stdout",
          "text": [
            "+--------------+----+------------------+-------------+-----------------+--------------------+--------------+---------------------+------------------+------------+-------+----+---------+----------------+-------------+--------+-------------+------+--------------+------------------+------------+--------+\n",
            "|participant_id|Date|sleep_log_entry_id|overall_score|composition_score|revitalization_score|duration_score|deep_sleep_in_minutes|resting_heart_rate|restlessness|fatigue|mood|readiness|sleep_duration_h|sleep_quality|soreness|soreness_area|stress|activity_names|perceived_exertion|duration_min|injuries|\n",
            "+--------------+----+------------------+-------------+-----------------+--------------------+--------------+---------------------+------------------+------------+-------+----+---------+----------------+-------------+--------+-------------+------+--------------+------------------+------------+--------+\n",
            "|             0|   0|                 0|            0|                0|                   0|             0|                    0|                 0|           0|      0|   0|        0|               0|            0|       0|            0|     0|             0|                 0|           0|       0|\n",
            "+--------------+----+------------------+-------------+-----------------+--------------------+--------------+---------------------+------------------+------------+-------+----+---------+----------------+-------------+--------+-------------+------+--------------+------------------+------------+--------+\n",
            "\n"
          ]
        }
      ],
      "source": [
        "#21 Checking the number of missing values per column after cleaning\n",
        "missing_values = df_final.select([sum(when(col(c).isNull(), 1).otherwise(0)).alias(c) for c in df_final.columns])\n",
        "missing_values.show()"
      ]
    },
    {
      "cell_type": "code",
      "execution_count": null,
      "metadata": {
        "colab": {
          "base_uri": "https://localhost:8080/"
        },
        "id": "Agw57h1Kwy-L",
        "outputId": "3429ffad-dd75-4850-d579-c1d0b516deb5"
      },
      "outputs": [
        {
          "output_type": "stream",
          "name": "stdout",
          "text": [
            "Invalid sleep_quality count: 2\n",
            "Invalid soreness count: 2\n",
            "Invalid stress count: 3\n"
          ]
        }
      ],
      "source": [
        "# For columns like sleep_quality, soreness, and stress, ensure values are between 1 and 5:\n",
        "valid_range = (col(\"sleep_quality\") >= 1) & (col(\"sleep_quality\") <= 5)\n",
        "df_valid_sleep_quality = df_final.filter(valid_range)\n",
        "\n",
        "valid_range_soreness = (col(\"soreness\") >= 1) & (col(\"soreness\") <= 5)\n",
        "df_valid_soreness = df_final.filter(valid_range_soreness)\n",
        "\n",
        "valid_range_stress = (col(\"stress\") >= 1) & (col(\"stress\") <= 5)\n",
        "df_valid_stress = df_final.filter(valid_range_stress)\n",
        "\n",
        "# You can check the counts to see how many records fall outside the expected range:\n",
        "invalid_sleep_quality = df_final.filter(~valid_range).count()\n",
        "invalid_soreness = df_final.filter(~valid_range_soreness).count()\n",
        "invalid_stress = df_final.filter(~valid_range_stress).count()\n",
        "\n",
        "df_final = df_final.filter(valid_range & valid_range_soreness & valid_range_stress)\n",
        "\n",
        "print(\"Invalid sleep_quality count:\", invalid_sleep_quality)\n",
        "print(\"Invalid soreness count:\", invalid_soreness)\n",
        "print(\"Invalid stress count:\", invalid_stress)"
      ]
    },
    {
      "cell_type": "markdown",
      "metadata": {
        "id": "U1q0hi9RQdEC"
      },
      "source": [
        "# Visualisation"
      ]
    },
    {
      "cell_type": "code",
      "execution_count": null,
      "metadata": {
        "colab": {
          "base_uri": "https://localhost:8080/"
        },
        "id": "r3cGLHxkGo6u",
        "outputId": "5113741a-dbf8-4e92-b01f-e6a18af1a966"
      },
      "outputs": [
        {
          "output_type": "stream",
          "name": "stdout",
          "text": [
            "                       sleep_log_entry_id  overall_score  composition_score  \\\n",
            "sleep_log_entry_id               1.000000       0.068605           0.005163   \n",
            "overall_score                    0.068605       1.000000           0.624558   \n",
            "composition_score                0.005163       0.624558           1.000000   \n",
            "revitalization_score             0.026992       0.585504           0.156826   \n",
            "duration_score                   0.084500       0.835585           0.363730   \n",
            "deep_sleep_in_minutes            0.005267       0.492308           0.520098   \n",
            "resting_heart_rate              -0.000039       0.109967           0.108986   \n",
            "restlessness                    -0.045448      -0.332134          -0.093403   \n",
            "fatigue                          0.063560       0.175891           0.077277   \n",
            "mood                             0.030865       0.130439           0.020835   \n",
            "readiness                        0.025543       0.031319          -0.096135   \n",
            "sleep_duration_h                 0.053435       0.472784           0.213581   \n",
            "sleep_quality                    0.095576       0.300596           0.169984   \n",
            "soreness                        -0.020514       0.052097           0.010576   \n",
            "stress                           0.009430       0.128036           0.053625   \n",
            "\n",
            "                       revitalization_score  duration_score  \\\n",
            "sleep_log_entry_id                 0.026992        0.084500   \n",
            "overall_score                      0.585504        0.835585   \n",
            "composition_score                  0.156826        0.363730   \n",
            "revitalization_score               1.000000        0.152572   \n",
            "duration_score                     0.152572        1.000000   \n",
            "deep_sleep_in_minutes              0.111673        0.425480   \n",
            "resting_heart_rate                 0.031706        0.094034   \n",
            "restlessness                      -0.407282       -0.191136   \n",
            "fatigue                            0.138012        0.139489   \n",
            "mood                               0.091587        0.128415   \n",
            "readiness                          0.008069        0.089457   \n",
            "sleep_duration_h                   0.038053        0.594231   \n",
            "sleep_quality                      0.159675        0.270729   \n",
            "soreness                           0.116597       -0.003208   \n",
            "stress                             0.012490        0.161524   \n",
            "\n",
            "                       deep_sleep_in_minutes  resting_heart_rate  \\\n",
            "sleep_log_entry_id                  0.005267           -0.000039   \n",
            "overall_score                       0.492308            0.109967   \n",
            "composition_score                   0.520098            0.108986   \n",
            "revitalization_score                0.111673            0.031706   \n",
            "duration_score                      0.425480            0.094034   \n",
            "deep_sleep_in_minutes               1.000000            0.318822   \n",
            "resting_heart_rate                  0.318822            1.000000   \n",
            "restlessness                       -0.039644            0.146237   \n",
            "fatigue                             0.152852           -0.035878   \n",
            "mood                                0.110843           -0.147615   \n",
            "readiness                          -0.089658           -0.149807   \n",
            "sleep_duration_h                    0.421292            0.189742   \n",
            "sleep_quality                       0.234389           -0.017699   \n",
            "soreness                            0.060798           -0.014685   \n",
            "stress                              0.120509           -0.124540   \n",
            "\n",
            "                       restlessness   fatigue      mood  readiness  \\\n",
            "sleep_log_entry_id        -0.045448  0.063560  0.030865   0.025543   \n",
            "overall_score             -0.332134  0.175891  0.130439   0.031319   \n",
            "composition_score         -0.093403  0.077277  0.020835  -0.096135   \n",
            "revitalization_score      -0.407282  0.138012  0.091587   0.008069   \n",
            "duration_score            -0.191136  0.139489  0.128415   0.089457   \n",
            "deep_sleep_in_minutes     -0.039644  0.152852  0.110843  -0.089658   \n",
            "resting_heart_rate         0.146237 -0.035878 -0.147615  -0.149807   \n",
            "restlessness               1.000000 -0.014715 -0.146392  -0.008036   \n",
            "fatigue                   -0.014715  1.000000  0.268842   0.423361   \n",
            "mood                      -0.146392  0.268842  1.000000   0.221953   \n",
            "readiness                 -0.008036  0.423361  0.221953   1.000000   \n",
            "sleep_duration_h           0.070496  0.242643  0.139866   0.176560   \n",
            "sleep_quality             -0.149293  0.403679  0.339960   0.237045   \n",
            "soreness                  -0.048823  0.260663  0.107821   0.116834   \n",
            "stress                    -0.058002  0.234977  0.443453   0.151500   \n",
            "\n",
            "                       sleep_duration_h  sleep_quality  soreness    stress  \n",
            "sleep_log_entry_id             0.053435       0.095576 -0.020514  0.009430  \n",
            "overall_score                  0.472784       0.300596  0.052097  0.128036  \n",
            "composition_score              0.213581       0.169984  0.010576  0.053625  \n",
            "revitalization_score           0.038053       0.159675  0.116597  0.012490  \n",
            "duration_score                 0.594231       0.270729 -0.003208  0.161524  \n",
            "deep_sleep_in_minutes          0.421292       0.234389  0.060798  0.120509  \n",
            "resting_heart_rate             0.189742      -0.017699 -0.014685 -0.124540  \n",
            "restlessness                   0.070496      -0.149293 -0.048823 -0.058002  \n",
            "fatigue                        0.242643       0.403679  0.260663  0.234977  \n",
            "mood                           0.139866       0.339960  0.107821  0.443453  \n",
            "readiness                      0.176560       0.237045  0.116834  0.151500  \n",
            "sleep_duration_h               1.000000       0.350143  0.020071  0.202717  \n",
            "sleep_quality                  0.350143       1.000000  0.111122  0.305860  \n",
            "soreness                       0.020071       0.111122  1.000000  0.037682  \n",
            "stress                         0.202717       0.305860  0.037682  1.000000  \n"
          ]
        }
      ],
      "source": [
        "#22 corelation heatmap\n",
        "# Convert Spark DataFrame to Pandas\n",
        "df_final_pd = df_final.toPandas()\n",
        "# Keep only numeric columns (exclude strings like 'participant_id')\n",
        "numeric_df = df_final_pd.select_dtypes(include=[\"number\"])\n",
        "\n",
        "# Compute the correlation matrix\n",
        "correlation_matrix = numeric_df.corr()\n",
        "\n",
        "# Show the correlation matrix\n",
        "print(correlation_matrix)\n"
      ]
    },
    {
      "cell_type": "code",
      "execution_count": null,
      "metadata": {
        "colab": {
          "base_uri": "https://localhost:8080/",
          "height": 847
        },
        "id": "T0tYMXJxHX3e",
        "outputId": "b4c20b6d-0e8e-440a-f387-684a950c98a7"
      },
      "outputs": [
        {
          "output_type": "display_data",
          "data": {
            "text/plain": [
              "<Figure size 1200x800 with 2 Axes>"
            ],
            "image/png": "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\n"
          },
          "metadata": {}
        }
      ],
      "source": [
        "# Set the figure size\n",
        "plt.figure(figsize=(12, 8))\n",
        "\n",
        "# Create the heatmap\n",
        "sns.heatmap(correlation_matrix, annot=True, cmap=\"coolwarm\", fmt=\".2f\", linewidths=0.5)\n",
        "\n",
        "# Add a title\n",
        "plt.title(\"Correlation Heatmap of Numerical Features\", fontsize=14)\n",
        "\n",
        "# Display the plot\n",
        "plt.show()"
      ]
    },
    {
      "cell_type": "markdown",
      "metadata": {
        "id": "4kp891M4h9tI"
      },
      "source": [
        "### **Overall Sleep Score:**\n",
        "\n",
        "Duration (0.84) and Composition (0.62) are the strongest drivers of overall sleep quality, emphasizing that longer sleep and a balanced distribution of sleep stages are critical.\n",
        "\n",
        "Deep Sleep:\n",
        "\n",
        "Moderately correlated with overall quality (≈0.49) and duration (≈0.42), indicating it contributes significantly but isn’t the sole factor.\n",
        "\n",
        "Restlessness:\n",
        "\n",
        "Shows a moderate negative impact on overall sleep quality (≈–0.33) and a strong negative relationship with revitalization (≈–0.41), highlighting that higher restlessness detracts from a refreshing sleep.\n",
        "\n",
        "Subjective Measures (Readiness, Revitalization):\n",
        "\n",
        "These have relatively weak correlations with the objective sleep metrics, suggesting that how refreshed participants feel may be influenced by additional external factors."
      ]
    },
    {
      "cell_type": "code",
      "execution_count": null,
      "metadata": {
        "colab": {
          "base_uri": "https://localhost:8080/",
          "height": 472
        },
        "id": "g8AOj7a7Ky3H",
        "outputId": "707643ee-01ca-4216-b880-20519bbb24f3"
      },
      "outputs": [
        {
          "output_type": "display_data",
          "data": {
            "text/plain": [
              "<Figure size 640x480 with 1 Axes>"
            ],
            "image/png": "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\n"
          },
          "metadata": {}
        }
      ],
      "source": [
        "#23 Histogram to show distribution of selected features\n",
        "sns.histplot(df_final_pd[\"sleep_quality\"], bins=30, kde=True)\n",
        "plt.title(\"Distribution of sleep quality\")\n",
        "plt.xlabel(\"sleep quality \")\n",
        "plt.ylabel(\"Frequency\")\n",
        "plt.show()"
      ]
    },
    {
      "cell_type": "code",
      "execution_count": null,
      "metadata": {
        "colab": {
          "base_uri": "https://localhost:8080/",
          "height": 472
        },
        "id": "nVT-qpfKQwva",
        "outputId": "9ac58ca0-686d-4a9f-98a3-2ef5c8d4bb53"
      },
      "outputs": [
        {
          "output_type": "display_data",
          "data": {
            "text/plain": [
              "<Figure size 640x480 with 1 Axes>"
            ],
            "image/png": "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\n"
          },
          "metadata": {}
        }
      ],
      "source": [
        "sns.histplot(df_final_pd[\"deep_sleep_in_minutes\"], bins=30, kde=True)\n",
        "plt.title(\"Distribution of deep_sleep_in_minutes\")\n",
        "plt.xlabel(\"deep_sleep_in_minutes\")\n",
        "plt.ylabel(\"Frequency\")\n",
        "plt.show()"
      ]
    },
    {
      "cell_type": "markdown",
      "metadata": {
        "id": "tR-xWDuIq84G"
      },
      "source": [
        "The histogram reveals that around **75** minutes was the most frequently reported sleep duration among participants"
      ]
    },
    {
      "cell_type": "code",
      "execution_count": null,
      "metadata": {
        "colab": {
          "base_uri": "https://localhost:8080/",
          "height": 472
        },
        "id": "eVYofT4-Q8Dp",
        "outputId": "b322d4ee-b9c8-496f-fd2d-e374cfd7016f"
      },
      "outputs": [
        {
          "output_type": "display_data",
          "data": {
            "text/plain": [
              "<Figure size 640x480 with 1 Axes>"
            ],
            "image/png": "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\n"
          },
          "metadata": {}
        }
      ],
      "source": [
        "sns.histplot(df_final_pd[\"mood\"], bins=30, kde=True)\n",
        "plt.title(\"Distribution of mood\")\n",
        "plt.xlabel(\"mood\")\n",
        "plt.ylabel(\"Frequency\")\n",
        "plt.show()\n"
      ]
    },
    {
      "cell_type": "markdown",
      "metadata": {
        "id": "LAJhIQKxknrR"
      },
      "source": [
        "**As we can see in here the unimodal distribution centered at the higher end indicates that most participants report a relatively positive mood**"
      ]
    },
    {
      "cell_type": "code",
      "execution_count": null,
      "metadata": {
        "colab": {
          "base_uri": "https://localhost:8080/",
          "height": 472
        },
        "id": "1_J-mUvhRFJC",
        "outputId": "bc8cc84f-7cde-463a-ab68-3c7973820818"
      },
      "outputs": [
        {
          "output_type": "display_data",
          "data": {
            "text/plain": [
              "<Figure size 640x480 with 1 Axes>"
            ],
            "image/png": "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\n"
          },
          "metadata": {}
        }
      ],
      "source": [
        "sns.histplot(df_final_pd[\"readiness\"], bins=30, kde=True)\n",
        "plt.title(\"Distribution of readiness\")\n",
        "plt.xlabel(\"readiness\")\n",
        "plt.ylabel(\"Frequency\")\n",
        "plt.show()"
      ]
    },
    {
      "cell_type": "markdown",
      "metadata": {
        "id": "4zujtnEllwuF"
      },
      "source": [
        "**The readiness histogram suggests that participants typically rate themselves in the moderate-to-high range (5–7), with some outliers at both extremes (0–1 and 9–10). While the data is somewhat clustered, the broad coverage across 0–10 indicates that readiness is a variable metric, which could be valuable for understanding individual differences in performance and well-being.**"
      ]
    },
    {
      "cell_type": "code",
      "execution_count": null,
      "metadata": {
        "colab": {
          "base_uri": "https://localhost:8080/",
          "height": 472
        },
        "id": "D3EHBvumLc5a",
        "outputId": "b1b5ead9-8145-4f4e-c5f0-bbd6cb31178e"
      },
      "outputs": [
        {
          "output_type": "display_data",
          "data": {
            "text/plain": [
              "<Figure size 640x480 with 1 Axes>"
            ],
            "image/png": "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\n"
          },
          "metadata": {}
        }
      ],
      "source": [
        "#24 Boxplot for a numerical feature (e.g., resting_heart_rate) to detect outliers\n",
        "sns.boxplot(x=df_final_pd[\"resting_heart_rate\"])\n",
        "plt.title(\"Boxplot of resting_heart_rate\")\n",
        "plt.show()"
      ]
    },
    {
      "cell_type": "markdown",
      "metadata": {
        "id": "0dinjfqXnRTR"
      },
      "source": [
        "**The boxplot indicates that most participants have resting heart rates in a healthy, with few outliers. This stable distribution may reduce the variables direct impact on predictive models but remains a useful baseline measure for overall health.**"
      ]
    },
    {
      "cell_type": "code",
      "execution_count": null,
      "metadata": {
        "colab": {
          "base_uri": "https://localhost:8080/",
          "height": 527
        },
        "id": "ILXpsaOMM9JK",
        "outputId": "c87e3a1e-8720-4c31-c37a-61f2e7c9c909"
      },
      "outputs": [
        {
          "output_type": "stream",
          "name": "stderr",
          "text": [
            "<ipython-input-95-7386d25b3f8a>:6: UserWarning: No artists with labels found to put in legend.  Note that artists whose label start with an underscore are ignored when legend() is called with no argument.\n",
            "  plt.legend(title=\"Performance Class\")\n"
          ]
        },
        {
          "output_type": "display_data",
          "data": {
            "text/plain": [
              "<Figure size 640x480 with 1 Axes>"
            ],
            "image/png": "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\n"
          },
          "metadata": {}
        }
      ],
      "source": [
        "#25 Scatter plot to see relationship between two features\n",
        "sns.scatterplot(x=df_final_pd[\"duration_score\"], y=df_final_pd[\"overall_score\"])\n",
        "plt.title(\"duration score vs overall_score\")\n",
        "plt.xlabel(\"duration_score\")\n",
        "plt.ylabel(\"overall_score\")\n",
        "plt.legend(title=\"Performance Class\")\n",
        "plt.show()"
      ]
    },
    {
      "cell_type": "markdown",
      "metadata": {
        "id": "dhNm1Qa8pJDl"
      },
      "source": [
        "**the scatter plot demonstrates a robust, positive relationship between total sleep duration and overall sleep quality.Participants who sleep longer tend to have higher overall sleep scores, showing that sleep duration is important for better sleep quality.**"
      ]
    },
    {
      "cell_type": "code",
      "execution_count": null,
      "metadata": {
        "colab": {
          "base_uri": "https://localhost:8080/",
          "height": 594
        },
        "id": "_ViWe5MTqtTv",
        "outputId": "f3d754ec-6847-4797-b440-4796cb27b8a5"
      },
      "outputs": [
        {
          "output_type": "stream",
          "name": "stderr",
          "text": [
            "<ipython-input-96-b6ce72ea28cc>:5: FutureWarning: \n",
            "\n",
            "Passing `palette` without assigning `hue` is deprecated and will be removed in v0.14.0. Assign the `x` variable to `hue` and set `legend=False` for the same effect.\n",
            "\n",
            "  ax = sns.countplot(x=\"overall_score_str\", data=df_final_pd, palette=\"viridis\", order=sorted(df_final_pd[\"overall_score_str\"].unique()))\n"
          ]
        },
        {
          "output_type": "display_data",
          "data": {
            "text/plain": [
              "<Figure size 800x500 with 1 Axes>"
            ],
            "image/png": "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\n"
          },
          "metadata": {}
        }
      ],
      "source": [
        "# Convert overall_score to string to treat it as a categorical variable\n",
        "df_final_pd[\"overall_score_str\"] = df_final_pd[\"overall_score\"].astype(str)\n",
        "\n",
        "plt.figure(figsize=(8,5))\n",
        "ax = sns.countplot(x=\"overall_score_str\", data=df_final_pd, palette=\"viridis\", order=sorted(df_final_pd[\"overall_score_str\"].unique()))\n",
        "ax.set_xlabel(\"Overall Score\")\n",
        "ax.set_ylabel(\"Count\")\n",
        "ax.set_title(\"Distribution of Overall Performance\")\n",
        "\n",
        "# Rotate x-axis labels if necessary\n",
        "plt.xticks(rotation=45)\n",
        "plt.tight_layout()\n",
        "plt.show()\n"
      ]
    },
    {
      "cell_type": "markdown",
      "metadata": {
        "id": "iJ_gkrvErIRi"
      },
      "source": [
        "**The bar chart reveals that overall_score is heavily concentrated around moderate-to-high values, with fewer participants at the extremes. This distribution suggests a mostly consistent performance level across the sample, offering a solid baseline for further modeling and segmentation.**"
      ]
    },
    {
      "cell_type": "code",
      "execution_count": null,
      "metadata": {
        "colab": {
          "base_uri": "https://localhost:8080/"
        },
        "id": "D_0px0BYA6NY",
        "outputId": "6e4eb6d2-b335-44b0-9546-ae56fe27fcf7"
      },
      "outputs": [
        {
          "output_type": "stream",
          "name": "stdout",
          "text": [
            "+--------------+-----------------+\n",
            "|participant_id|training_sessions|\n",
            "+--------------+-----------------+\n",
            "|           p03|               46|\n",
            "|           p13|               32|\n",
            "|           p07|              135|\n",
            "|           p09|               92|\n",
            "|           p01|              140|\n",
            "|           p06|              144|\n",
            "|           p02|              101|\n",
            "|           p12|                1|\n",
            "|           p11|              110|\n",
            "|           p10|               82|\n",
            "|           p08|              100|\n",
            "|           p16|               82|\n",
            "|           p14|              108|\n",
            "|           p05|              106|\n",
            "|           p15|              102|\n",
            "|           p04|              137|\n",
            "+--------------+-----------------+\n",
            "\n"
          ]
        }
      ],
      "source": [
        "# Count training sessions per participant\n",
        "df_final.groupBy(\"participant_id\").count().selectExpr(\"participant_id\", \"count as training_sessions\").show()"
      ]
    },
    {
      "cell_type": "markdown",
      "metadata": {
        "id": "TPvySO5TA3Ir"
      },
      "source": []
    },
    {
      "cell_type": "code",
      "execution_count": null,
      "metadata": {
        "colab": {
          "base_uri": "https://localhost:8080/"
        },
        "id": "buwWh30gss6o",
        "outputId": "0ddc1711-2214-4e20-e0e8-b1a6c930161e"
      },
      "outputs": [
        {
          "output_type": "stream",
          "name": "stdout",
          "text": [
            "+--------------+-----+\n",
            "|participant_id|count|\n",
            "+--------------+-----+\n",
            "|           p06|  144|\n",
            "|           p01|  140|\n",
            "|           p04|  137|\n",
            "|           p07|  135|\n",
            "|           p11|  110|\n",
            "|           p14|  108|\n",
            "|           p05|  106|\n",
            "|           p15|  102|\n",
            "|           p02|  101|\n",
            "|           p08|  100|\n",
            "|           p09|   92|\n",
            "|           p10|   82|\n",
            "|           p16|   82|\n",
            "|           p03|   46|\n",
            "|           p13|   32|\n",
            "|           p12|    1|\n",
            "+--------------+-----+\n",
            "\n"
          ]
        }
      ],
      "source": [
        "#count training Sessions per Participant\n",
        "df_final.groupBy(\"participant_id\").count().orderBy(\"count\", ascending=False).show()"
      ]
    },
    {
      "cell_type": "code",
      "execution_count": null,
      "metadata": {
        "id": "kKpj4Zm1ss2S"
      },
      "outputs": [],
      "source": [
        "# count how many times participant got injurd\n",
        "#هذا الكود خطا\n",
        "#injury_counts.groupBy(\"participant_id\").count().orderBy(\"count\", ascending=False).show()"
      ]
    },
    {
      "cell_type": "code",
      "execution_count": null,
      "metadata": {
        "colab": {
          "base_uri": "https://localhost:8080/"
        },
        "id": "kiG6bTVTsszq",
        "outputId": "938dd6ce-f504-4b8d-c6c6-0803f609aff6"
      },
      "outputs": [
        {
          "output_type": "stream",
          "name": "stdout",
          "text": [
            "+--------------+------------------+\n",
            "|participant_id|   avg_sleep_hours|\n",
            "+--------------+------------------+\n",
            "|           p14| 8.157407407407407|\n",
            "|           p15| 7.637254901960785|\n",
            "|           p08|              7.44|\n",
            "|           p07|7.2518518518518515|\n",
            "|           p10|7.2439024390243905|\n",
            "|           p04| 6.883211678832117|\n",
            "|           p11| 6.881818181818182|\n",
            "|           p13|           6.84375|\n",
            "|           p03| 6.826086956521739|\n",
            "|           p09| 6.684782608695652|\n",
            "|           p16| 6.670731707317073|\n",
            "|           p02| 6.455445544554456|\n",
            "|           p06| 6.069444444444445|\n",
            "|           p12|               6.0|\n",
            "|           p05| 5.566037735849057|\n",
            "|           p01|               5.5|\n",
            "+--------------+------------------+\n",
            "\n"
          ]
        }
      ],
      "source": [
        "# count average sleeping hours for each participant\n",
        "df_final.groupBy(\"participant_id\") \\\n",
        "    .agg(avg(col(\"sleep_duration_h\")).alias(\"avg_sleep_hours\")) \\\n",
        "    .orderBy(\"avg_sleep_hours\", ascending=False) \\\n",
        "    .show()"
      ]
    },
    {
      "cell_type": "code",
      "execution_count": null,
      "metadata": {
        "colab": {
          "base_uri": "https://localhost:8080/",
          "height": 460
        },
        "id": "nxbgs5RKXHkC",
        "outputId": "9715e289-a1ff-4f8b-9dfb-8b78a03a6aaa"
      },
      "outputs": [
        {
          "output_type": "execute_result",
          "data": {
            "text/plain": [
              "readiness\n",
              "5     407\n",
              "6     254\n",
              "4     251\n",
              "7     203\n",
              "3     153\n",
              "8      90\n",
              "2      66\n",
              "0      62\n",
              "1      12\n",
              "9      12\n",
              "10      8\n",
              "Name: count, dtype: int64"
            ],
            "text/html": [
              "<div>\n",
              "<style scoped>\n",
              "    .dataframe tbody tr th:only-of-type {\n",
              "        vertical-align: middle;\n",
              "    }\n",
              "\n",
              "    .dataframe tbody tr th {\n",
              "        vertical-align: top;\n",
              "    }\n",
              "\n",
              "    .dataframe thead th {\n",
              "        text-align: right;\n",
              "    }\n",
              "</style>\n",
              "<table border=\"1\" class=\"dataframe\">\n",
              "  <thead>\n",
              "    <tr style=\"text-align: right;\">\n",
              "      <th></th>\n",
              "      <th>count</th>\n",
              "    </tr>\n",
              "    <tr>\n",
              "      <th>readiness</th>\n",
              "      <th></th>\n",
              "    </tr>\n",
              "  </thead>\n",
              "  <tbody>\n",
              "    <tr>\n",
              "      <th>5</th>\n",
              "      <td>407</td>\n",
              "    </tr>\n",
              "    <tr>\n",
              "      <th>6</th>\n",
              "      <td>254</td>\n",
              "    </tr>\n",
              "    <tr>\n",
              "      <th>4</th>\n",
              "      <td>251</td>\n",
              "    </tr>\n",
              "    <tr>\n",
              "      <th>7</th>\n",
              "      <td>203</td>\n",
              "    </tr>\n",
              "    <tr>\n",
              "      <th>3</th>\n",
              "      <td>153</td>\n",
              "    </tr>\n",
              "    <tr>\n",
              "      <th>8</th>\n",
              "      <td>90</td>\n",
              "    </tr>\n",
              "    <tr>\n",
              "      <th>2</th>\n",
              "      <td>66</td>\n",
              "    </tr>\n",
              "    <tr>\n",
              "      <th>0</th>\n",
              "      <td>62</td>\n",
              "    </tr>\n",
              "    <tr>\n",
              "      <th>1</th>\n",
              "      <td>12</td>\n",
              "    </tr>\n",
              "    <tr>\n",
              "      <th>9</th>\n",
              "      <td>12</td>\n",
              "    </tr>\n",
              "    <tr>\n",
              "      <th>10</th>\n",
              "      <td>8</td>\n",
              "    </tr>\n",
              "  </tbody>\n",
              "</table>\n",
              "</div><br><label><b>dtype:</b> int64</label>"
            ]
          },
          "metadata": {},
          "execution_count": 101
        }
      ],
      "source": [
        "df_final_pd['readiness'].value_counts()"
      ]
    },
    {
      "cell_type": "code",
      "execution_count": null,
      "metadata": {
        "colab": {
          "base_uri": "https://localhost:8080/",
          "height": 209
        },
        "id": "FedvHgqfssm1",
        "outputId": "36ca5ce2-e10c-4a27-c77d-fd0ea47ab96a"
      },
      "outputs": [
        {
          "output_type": "execute_result",
          "data": {
            "text/plain": [
              "readiness\n",
              "1    864\n",
              "0    482\n",
              "2    110\n",
              "Name: count, dtype: int64"
            ],
            "text/html": [
              "<div>\n",
              "<style scoped>\n",
              "    .dataframe tbody tr th:only-of-type {\n",
              "        vertical-align: middle;\n",
              "    }\n",
              "\n",
              "    .dataframe tbody tr th {\n",
              "        vertical-align: top;\n",
              "    }\n",
              "\n",
              "    .dataframe thead th {\n",
              "        text-align: right;\n",
              "    }\n",
              "</style>\n",
              "<table border=\"1\" class=\"dataframe\">\n",
              "  <thead>\n",
              "    <tr style=\"text-align: right;\">\n",
              "      <th></th>\n",
              "      <th>count</th>\n",
              "    </tr>\n",
              "    <tr>\n",
              "      <th>readiness</th>\n",
              "      <th></th>\n",
              "    </tr>\n",
              "  </thead>\n",
              "  <tbody>\n",
              "    <tr>\n",
              "      <th>1</th>\n",
              "      <td>864</td>\n",
              "    </tr>\n",
              "    <tr>\n",
              "      <th>0</th>\n",
              "      <td>482</td>\n",
              "    </tr>\n",
              "    <tr>\n",
              "      <th>2</th>\n",
              "      <td>110</td>\n",
              "    </tr>\n",
              "  </tbody>\n",
              "</table>\n",
              "</div><br><label><b>dtype:</b> int64</label>"
            ]
          },
          "metadata": {},
          "execution_count": 102
        }
      ],
      "source": [
        "#Convert class label [readiness] to becategorical\n",
        "\n",
        "bins = [0, 4, 7, 10]  # Define the ranges  0 = Low (0–4), 1 = Medium (5–7), 2 = High (8–10)\n",
        "labels = [0,1,2]\n",
        "\n",
        "df_final_pd['readiness'] = pd.cut(df_final_pd['readiness'], bins=bins, labels=labels, right=True)\n",
        "df_final_pd['readiness'].value_counts()"
      ]
    },
    {
      "cell_type": "code",
      "execution_count": null,
      "metadata": {
        "colab": {
          "base_uri": "https://localhost:8080/",
          "height": 564
        },
        "id": "zvzrUkGcaHtO",
        "outputId": "08329d70-0b2f-47f3-e641-b1b10eafcefa"
      },
      "outputs": [
        {
          "output_type": "display_data",
          "data": {
            "text/plain": [
              "<Figure size 800x600 with 1 Axes>"
            ],
            "image/png": "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\n"
          },
          "metadata": {}
        }
      ],
      "source": [
        "plt.figure(figsize=(8, 6))\n",
        "df_final_pd['readiness'].value_counts().plot(kind='bar', color='skyblue')\n",
        "\n",
        "# Add labels and title\n",
        "plt.title('Distribution of Readiness')\n",
        "plt.xlabel('Categories')\n",
        "plt.ylabel('Count')\n",
        "plt.xticks(rotation=0)\n",
        "plt.show()"
      ]
    },
    {
      "cell_type": "code",
      "execution_count": null,
      "metadata": {
        "colab": {
          "base_uri": "https://localhost:8080/",
          "height": 564
        },
        "id": "sgLWPzTn2P2j",
        "outputId": "445f097c-83f0-4180-9acd-b6ab241695b6"
      },
      "outputs": [
        {
          "output_type": "display_data",
          "data": {
            "text/plain": [
              "<Figure size 800x600 with 1 Axes>"
            ],
            "image/png": "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\n"
          },
          "metadata": {}
        }
      ],
      "source": [
        "plt.figure(figsize=(8, 6))\n",
        "df_final_pd['mood'].value_counts().plot(kind='bar', color='skyblue')\n",
        "\n",
        "# Add labels and title\n",
        "plt.title('Distribution of mod')\n",
        "plt.xlabel('Categories')\n",
        "plt.ylabel('Count')\n",
        "plt.xticks(rotation=0)\n",
        "plt.show()"
      ]
    },
    {
      "cell_type": "markdown",
      "metadata": {
        "id": "WE20ZjrMNzwv"
      },
      "source": [
        "# Random Forest"
      ]
    },
    {
      "cell_type": "code",
      "execution_count": null,
      "metadata": {
        "id": "6LXNufPrN4xP"
      },
      "outputs": [],
      "source": [
        "from pyspark.ml.classification import RandomForestClassifier\n",
        "from pyspark.ml.evaluation import MulticlassClassificationEvaluator\n",
        "from pyspark.ml.feature import VectorAssembler, StringIndexer\n",
        "from pyspark.ml import Pipeline"
      ]
    },
    {
      "cell_type": "code",
      "execution_count": null,
      "metadata": {
        "colab": {
          "base_uri": "https://localhost:8080/"
        },
        "id": "Xsk2VLZ0QMMa",
        "outputId": "4b4fcee3-53b9-415d-8858-23951e2d56fa"
      },
      "outputs": [
        {
          "output_type": "stream",
          "name": "stdout",
          "text": [
            "+---------+-----+\n",
            "|readiness|count|\n",
            "+---------+-----+\n",
            "|        1|   12|\n",
            "|        6|  254|\n",
            "|        3|  153|\n",
            "|        5|  407|\n",
            "|        9|   12|\n",
            "|        4|  251|\n",
            "|        8|   90|\n",
            "|        7|  203|\n",
            "|       10|    8|\n",
            "|        2|   66|\n",
            "|        0|   62|\n",
            "+---------+-----+\n",
            "\n"
          ]
        }
      ],
      "source": [
        "#count the values for target column\n",
        "readiness_counts = df_final.groupBy('readiness').count()\n",
        "readiness_counts.show()"
      ]
    },
    {
      "cell_type": "code",
      "execution_count": null,
      "metadata": {
        "colab": {
          "base_uri": "https://localhost:8080/"
        },
        "id": "cZ9tc8JPQ5jB",
        "outputId": "a9c9e6f5-2525-4fa2-d555-cfa4b029add1"
      },
      "outputs": [
        {
          "output_type": "stream",
          "name": "stdout",
          "text": [
            "+---------+-----+\n",
            "|readiness|count|\n",
            "+---------+-----+\n",
            "|        1|  864|\n",
            "|        2|  110|\n",
            "|        0|  544|\n",
            "+---------+-----+\n",
            "\n"
          ]
        }
      ],
      "source": [
        "from pyspark.sql import functions as F\n",
        "\n",
        "# Define the bins and labels using PySpark's 'when' function\n",
        "df_final = df_final.withColumn(\n",
        "    'readiness',\n",
        "    F.when((F.col('readiness') >= 0) & (F.col('readiness') <= 4), 0)  # Low: 0-4\n",
        "    .when((F.col('readiness') >= 5) & (F.col('readiness') <= 7), 1)  # Medium: 5-7\n",
        "    .when((F.col('readiness') >= 8) & (F.col('readiness') <= 10), 2)  # High: 8-10\n",
        "    .otherwise(None)  # Handle any values outside the range, if any\n",
        ")\n",
        "\n",
        "\n",
        "# To count the occurrences of each category in 'readiness'\n",
        "readiness_counts = df_final.groupBy('readiness').count()\n",
        "readiness_counts.show()\n"
      ]
    },
    {
      "cell_type": "code",
      "execution_count": null,
      "metadata": {
        "colab": {
          "base_uri": "https://localhost:8080/"
        },
        "id": "awfkOBtDMBq1",
        "outputId": "aa52ef84-50d6-4f6e-bad6-ce75434f7f19"
      },
      "outputs": [
        {
          "output_type": "stream",
          "name": "stdout",
          "text": [
            "readiness\n",
            "0    864\n",
            "1    864\n",
            "2    864\n",
            "Name: count, dtype: int64\n"
          ]
        }
      ],
      "source": [
        "from sklearn.utils import resample\n",
        "import pandas as pd\n",
        "\n",
        "# Separate the classes\n",
        "class_0 = df_final_pd[df_final_pd['readiness'] == 0]\n",
        "class_1 = df_final_pd[df_final_pd['readiness'] == 1]\n",
        "class_2 = df_final_pd[df_final_pd['readiness'] == 2]\n",
        "\n",
        "# Find the maximum class count\n",
        "max_size = max(len(class_0), len(class_1), len(class_2))\n",
        "\n",
        "# Oversample the smaller classes\n",
        "class_0_upsampled = resample(class_0, replace=True, n_samples=max_size, random_state=42)\n",
        "class_2_upsampled = resample(class_2, replace=True, n_samples=max_size, random_state=42)\n",
        "\n",
        "# Combine them back together\n",
        "df_balanced = pd.concat([class_1, class_0_upsampled, class_2_upsampled])\n",
        "\n",
        "# Shuffle the dataset (important after resampling)\n",
        "df_balanced = df_balanced.sample(frac=1, random_state=42).reset_index(drop=True)\n",
        "\n",
        "# Check new balance\n",
        "print(df_balanced['readiness'].value_counts())"
      ]
    },
    {
      "cell_type": "code",
      "execution_count": null,
      "metadata": {
        "id": "Z2bL4aeGOQGg"
      },
      "outputs": [],
      "source": [
        "# Prepare feature columns\n",
        "feature_columns = [col for col in df_final.columns if col != 'readiness']"
      ]
    },
    {
      "cell_type": "code",
      "execution_count": null,
      "metadata": {
        "id": "XxY7WJROSzCc"
      },
      "outputs": [],
      "source": [
        "# Identify categorical (string) and numeric columns\n",
        "categorical_columns = [col for col, dtype in df_final.dtypes if dtype == 'string' and col != 'readiness']\n",
        "numeric_columns = [col for col, dtype in df_final.dtypes if dtype in ['int', 'double', 'float'] and col != 'readiness']"
      ]
    },
    {
      "cell_type": "code",
      "execution_count": null,
      "metadata": {
        "id": "lSGB-U9oS2_U"
      },
      "outputs": [],
      "source": [
        "# Apply StringIndexer to all categorical columns (convert them to numeric)\n",
        "indexers = []\n",
        "for col_name in categorical_columns:\n",
        "    indexer = StringIndexer(inputCol=col_name, outputCol=col_name + '_indexed')\n",
        "    indexers.append(indexer)"
      ]
    },
    {
      "cell_type": "code",
      "execution_count": null,
      "metadata": {
        "id": "kovqTgzIS7IA"
      },
      "outputs": [],
      "source": [
        "# Create a pipeline to apply the StringIndexers\n",
        "pipeline = Pipeline(stages=indexers)\n",
        "df_final_indexed = pipeline.fit(df_final).transform(df_final)"
      ]
    },
    {
      "cell_type": "code",
      "execution_count": null,
      "metadata": {
        "id": "oFlLCU66S_PW"
      },
      "outputs": [],
      "source": [
        "feature_columns = numeric_columns + [col + '_indexed' for col in categorical_columns]"
      ]
    },
    {
      "cell_type": "code",
      "execution_count": null,
      "metadata": {
        "id": "a8PIiRa9OYgg"
      },
      "outputs": [],
      "source": [
        "# Use VectorAssembler to combine all feature columns into a single 'features' column\n",
        "assembler = VectorAssembler(inputCols=feature_columns, outputCol='features')\n",
        "df_features = assembler.transform(df_final_indexed)"
      ]
    },
    {
      "cell_type": "code",
      "execution_count": null,
      "metadata": {
        "id": "3im5ecmXT0a7"
      },
      "outputs": [],
      "source": [
        "# Select only the columns required for the model (features column and label column)\n",
        "df_features_only = df_features.select('features', 'readiness')"
      ]
    },
    {
      "cell_type": "code",
      "execution_count": null,
      "metadata": {
        "colab": {
          "base_uri": "https://localhost:8080/"
        },
        "id": "PI0zPgCyUn7A",
        "outputId": "99d9e615-5205-4ee0-d053-d40c3f755d78"
      },
      "outputs": [
        {
          "output_type": "stream",
          "name": "stdout",
          "text": [
            "+--------------------+---------+\n",
            "|            features|readiness|\n",
            "+--------------------+---------+\n",
            "|[68.0,20.0,14.0,3...|        1|\n",
            "|[78.0,16.0,20.0,4...|        1|\n",
            "|[75.0,17.0,20.0,3...|        1|\n",
            "|[72.0,15.0,23.0,3...|        1|\n",
            "|[71.0,17.0,17.0,3...|        1|\n",
            "|[66.0,17.0,15.0,3...|        1|\n",
            "|[72.0,15.0,23.0,3...|        1|\n",
            "|[72.0,16.0,21.0,3...|        2|\n",
            "|[82.0,17.0,21.0,4...|        2|\n",
            "|[75.0,16.0,17.0,4...|        2|\n",
            "|[60.0,16.0,17.0,2...|        1|\n",
            "|[82.0,17.0,21.0,4...|        2|\n",
            "|[77.0,17.0,18.0,4...|        1|\n",
            "|[86.0,24.0,23.0,3...|        0|\n",
            "|[77.0,17.0,20.0,4...|        0|\n",
            "|[89.0,19.0,24.0,4...|        1|\n",
            "|[87.0,21.0,24.0,4...|        1|\n",
            "|[88.0,23.0,23.0,4...|        0|\n",
            "|[86.0,24.0,23.0,3...|        0|\n",
            "|[85.0,18.0,23.0,4...|        0|\n",
            "+--------------------+---------+\n",
            "only showing top 20 rows\n",
            "\n"
          ]
        }
      ],
      "source": [
        "# Show the resulting DataFrame with only features\n",
        "df_features_only.show()"
      ]
    },
    {
      "cell_type": "markdown",
      "metadata": {
        "id": "nyC5WP1VU8qK"
      },
      "source": [
        "Building the model"
      ]
    },
    {
      "cell_type": "code",
      "execution_count": null,
      "metadata": {
        "id": "KWf5XhBSU7ND"
      },
      "outputs": [],
      "source": [
        "# Split the data into training and test sets\n",
        "train_data, test_data = df_features_only.randomSplit([0.8, 0.2], seed=1234)"
      ]
    },
    {
      "cell_type": "code",
      "execution_count": null,
      "metadata": {
        "id": "Mrxnp3tZVHmP"
      },
      "outputs": [],
      "source": [
        "#  Initialize Random Forest model\n",
        "rf = RandomForestClassifier(featuresCol='features', labelCol='readiness', maxBins=64)"
      ]
    },
    {
      "cell_type": "markdown",
      "source": [
        "Hyperparameter tuning"
      ],
      "metadata": {
        "id": "0KuuOmWhYQYA"
      }
    },
    {
      "cell_type": "code",
      "source": [
        "# Create ParamGrid for Cross Validation\n",
        "from pyspark.ml.tuning import ParamGridBuilder, CrossValidator\n",
        "paramGrid = (ParamGridBuilder()\n",
        "             .addGrid(rf.numTrees, [10, 20])       # smaller number of trees\n",
        "             .addGrid(rf.maxDepth, [5, 10])         # smaller depth options\n",
        "             .build())"
      ],
      "metadata": {
        "id": "dzL4Fu0-X_e4"
      },
      "execution_count": null,
      "outputs": []
    },
    {
      "cell_type": "code",
      "source": [
        "# Define evaluator\n",
        "evaluator = MulticlassClassificationEvaluator(labelCol='readiness', predictionCol='prediction', metricName='accuracy')"
      ],
      "metadata": {
        "id": "WgZ1o2kEYE2l"
      },
      "execution_count": null,
      "outputs": []
    },
    {
      "cell_type": "code",
      "source": [
        "# Create 2-fold CrossValidator\n",
        "crossval = CrossValidator(estimator=rf,\n",
        "                          estimatorParamMaps=paramGrid,\n",
        "                          evaluator=evaluator,\n",
        "                          numFolds=2)  # 2-fold"
      ],
      "metadata": {
        "id": "pKEbAg3JYIcQ"
      },
      "execution_count": null,
      "outputs": []
    },
    {
      "cell_type": "code",
      "source": [
        "cv_model = crossval.fit(train_data)"
      ],
      "metadata": {
        "id": "uWpOk2dGYMnP"
      },
      "execution_count": null,
      "outputs": []
    },
    {
      "cell_type": "code",
      "source": [
        "# Use best model to make predictions\n",
        "predictions = cv_model.transform(test_data)"
      ],
      "metadata": {
        "id": "9hSfGhWDYWIU"
      },
      "execution_count": null,
      "outputs": []
    },
    {
      "cell_type": "code",
      "source": [
        "# Evaluate best model\n",
        "accuracy_rf = evaluator.evaluate(predictions)"
      ],
      "metadata": {
        "id": "fCTWadkEaH-V"
      },
      "execution_count": null,
      "outputs": []
    },
    {
      "cell_type": "code",
      "source": [
        "# Convert predictions to RDD\n",
        "predictionAndLabels = predictions.select('prediction', 'readiness') \\\n",
        "                                 .rdd \\\n",
        "                                 .map(lambda row: (float(row['prediction']), float(row['readiness'])))"
      ],
      "metadata": {
        "id": "QPoHJBiZajBN"
      },
      "execution_count": null,
      "outputs": []
    },
    {
      "cell_type": "code",
      "source": [
        "from pyspark.mllib.evaluation import MulticlassMetrics\n",
        "# Instantiate metrics\n",
        "metrics = MulticlassMetrics(predictionAndLabels)"
      ],
      "metadata": {
        "id": "i77K3u2Yaj20"
      },
      "execution_count": null,
      "outputs": []
    },
    {
      "cell_type": "code",
      "source": [
        "# Confusion Matrix\n",
        "print(\"Confusion Matrix:\")\n",
        "print(metrics.confusionMatrix().toArray())"
      ],
      "metadata": {
        "colab": {
          "base_uri": "https://localhost:8080/"
        },
        "id": "YUb3KUJMaLvc",
        "outputId": "8abab0d8-b7d3-410b-e1b7-9baf97c396af"
      },
      "execution_count": null,
      "outputs": [
        {
          "output_type": "stream",
          "name": "stdout",
          "text": [
            "Confusion Matrix:\n",
            "[[ 62.  42.   0.]\n",
            " [ 24. 147.   1.]\n",
            " [  1.  14.   7.]]\n"
          ]
        }
      ]
    },
    {
      "cell_type": "code",
      "source": [
        "# EVALUATORS\n",
        "precision_evaluator = MulticlassClassificationEvaluator(labelCol='readiness', predictionCol='prediction', metricName='weightedPrecision')\n",
        "recall_evaluator    = MulticlassClassificationEvaluator(labelCol='readiness', predictionCol='prediction', metricName='weightedRecall')\n",
        "f1_evaluator        = MulticlassClassificationEvaluator(labelCol='readiness', predictionCol='prediction', metricName='f1')"
      ],
      "metadata": {
        "id": "Gc3JoLd5mEVY"
      },
      "execution_count": null,
      "outputs": []
    },
    {
      "cell_type": "code",
      "source": [
        "# Evaluate Random Forest\n",
        "precision_rf = precision_evaluator.evaluate(predictions)\n",
        "recall_rf = recall_evaluator.evaluate(predictions)\n",
        "f1_rf = f1_evaluator.evaluate(predictions)"
      ],
      "metadata": {
        "id": "UsjykUTxmHxp"
      },
      "execution_count": null,
      "outputs": []
    },
    {
      "cell_type": "code",
      "source": [
        "print(f\"Random Forest Metrics:\")\n",
        "print(f\"  - Accuracy : {accuracy_rf:.4f}\")\n",
        "print(f\"  - Precision: {precision_rf:.4f}\")\n",
        "print(f\"  - Recall   : {recall_rf:.4f}\")\n",
        "print(f\"  - F1-score : {f1_rf:.4f}\")\n"
      ],
      "metadata": {
        "colab": {
          "base_uri": "https://localhost:8080/"
        },
        "id": "CahMoDFxmhZ2",
        "outputId": "51a20f08-47d4-4e83-a757-d9a649250c5d"
      },
      "execution_count": null,
      "outputs": [
        {
          "output_type": "stream",
          "name": "stdout",
          "text": [
            "Random Forest Metrics:\n",
            "  - Accuracy : 0.7248\n",
            "  - Precision: 0.7313\n",
            "  - Recall   : 0.7248\n",
            "  - F1-score : 0.7135\n"
          ]
        }
      ]
    },
    {
      "cell_type": "markdown",
      "source": [
        "# Logistic regression"
      ],
      "metadata": {
        "id": "TEx72x-MmspY"
      }
    },
    {
      "cell_type": "markdown",
      "source": [
        " (WITH TUNING)"
      ],
      "metadata": {
        "id": "UY7KfbU6r41h"
      }
    },
    {
      "cell_type": "code",
      "source": [
        "from pyspark.ml.classification import LogisticRegression\n",
        "\n",
        "# Logistic Regression\n",
        "lr = LogisticRegression(featuresCol='features', labelCol='readiness')\n",
        "\n",
        "paramGrid_lr = (ParamGridBuilder()\n",
        "                .addGrid(lr.regParam, [0.01, 0.1])\n",
        "                .addGrid(lr.elasticNetParam, [0.0, 0.5])  # Ridge (L2) and ElasticNet (mix of L1+L2)\n",
        "                .build())\n",
        "\n",
        "crossval_lr = CrossValidator(estimator=lr,\n",
        "                             estimatorParamMaps=paramGrid_lr,\n",
        "                             evaluator=evaluator,\n",
        "                             numFolds=2)\n",
        "\n",
        "cv_model_lr = crossval_lr.fit(train_data)\n",
        "predictions_lr = cv_model_lr.transform(test_data)\n",
        "\n",
        "accuracy_lr = evaluator.evaluate(predictions_lr)"
      ],
      "metadata": {
        "colab": {
          "base_uri": "https://localhost:8080/"
        },
        "id": "J_pkxOINrbzT",
        "outputId": "4d1dad35-7b69-453a-e449-d5a1f301abdd"
      },
      "execution_count": null,
      "outputs": [
        {
          "output_type": "stream",
          "name": "stdout",
          "text": [
            "Best Logistic Regression Accuracy after tuning = 0.6242\n"
          ]
        }
      ]
    },
    {
      "cell_type": "code",
      "source": [
        "# Evaluate Logistic Regression\n",
        "precision_lr = precision_evaluator.evaluate(predictions_lr)\n",
        "recall_lr = recall_evaluator.evaluate(predictions_lr)\n",
        "f1_lr = f1_evaluator.evaluate(predictions_lr)\n",
        "\n",
        "print(f\"Logistic Regression Metrics:\")\n",
        "print(f\"  - Accuracy : {accuracy_lr:.4f}\")\n",
        "print(f\"  - Precision: {precision_lr:.4f}\")\n",
        "print(f\"  - Recall   : {recall_lr:.4f}\")\n",
        "print(f\"  - F1-score : {f1_lr:.4f}\")"
      ],
      "metadata": {
        "colab": {
          "base_uri": "https://localhost:8080/"
        },
        "id": "lxzD52a-sEsB",
        "outputId": "0f946eaf-a25f-42cb-8cca-fcd48d8c0a02"
      },
      "execution_count": null,
      "outputs": [
        {
          "output_type": "stream",
          "name": "stdout",
          "text": [
            "Logistic Regression Metrics:\n",
            "  - Accuracy : 0.6242\n",
            "  - Precision: 0.6189\n",
            "  - Recall   : 0.6242\n",
            "  - F1-score : 0.5982\n"
          ]
        }
      ]
    },
    {
      "cell_type": "code",
      "source": [
        "# Prepare (prediction, label) RDD\n",
        "predictionAndLabels_lr = predictions_lr.select('prediction', 'readiness') \\\n",
        "                                       .rdd \\\n",
        "                                       .map(lambda row: (float(row['prediction']), float(row['readiness'])))\n",
        "\n",
        "# Create Metrics object\n",
        "metrics_lr = MulticlassMetrics(predictionAndLabels_lr)\n",
        "\n",
        "# Print Confusion Matrix\n",
        "print(\"Confusion Matrix for Logistic Regression:\")\n",
        "print(metrics_lr.confusionMatrix().toArray())\n"
      ],
      "metadata": {
        "colab": {
          "base_uri": "https://localhost:8080/"
        },
        "id": "tkZjuYhU28rh",
        "outputId": "eca9e7fa-06e0-4880-96e5-3fe98b884b0e"
      },
      "execution_count": null,
      "outputs": [
        {
          "output_type": "stream",
          "name": "stdout",
          "text": [
            "Confusion Matrix for Logistic Regression:\n",
            "[[ 46.  58.   0.]\n",
            " [ 33. 138.   1.]\n",
            " [  3.  17.   2.]]\n"
          ]
        }
      ]
    },
    {
      "cell_type": "markdown",
      "source": [
        " (WITHOUT TUNING)"
      ],
      "metadata": {
        "id": "bAtwWkXEry1D"
      }
    },
    {
      "cell_type": "code",
      "execution_count": null,
      "metadata": {
        "id": "LYruVRoTVz4I"
      },
      "outputs": [],
      "source": [
        "lr2 = LogisticRegression(featuresCol='features', labelCol='readiness', maxIter=64)\n",
        "lr_model2 = lr2.fit(train_data)\n",
        "predictions_lr2 = lr_model2.transform(test_data)"
      ]
    },
    {
      "cell_type": "code",
      "execution_count": null,
      "metadata": {
        "colab": {
          "base_uri": "https://localhost:8080/"
        },
        "id": "KImHCFuHRNIQ",
        "outputId": "c0b7aa9b-333a-4ac1-a965-d6cebb7a74dc"
      },
      "outputs": [
        {
          "output_type": "stream",
          "name": "stdout",
          "text": [
            "Accuracy: 0.6208053691275168\n"
          ]
        }
      ],
      "source": [
        "evaluator = MulticlassClassificationEvaluator(labelCol='readiness', predictionCol='prediction', metricName='accuracy')\n",
        "accuracy_lr2 = evaluator.evaluate(predictions_lr2)\n",
        "print(f'Accuracy: {accuracy_lr2}')\n"
      ]
    },
    {
      "cell_type": "code",
      "execution_count": null,
      "metadata": {
        "colab": {
          "base_uri": "https://localhost:8080/"
        },
        "id": "if9K7T-jRbqg",
        "outputId": "d1d4cf11-97c3-491e-e2cb-718f218b91a0"
      },
      "outputs": [
        {
          "output_type": "stream",
          "name": "stdout",
          "text": [
            "Precision: 0.6029959394921208\n"
          ]
        }
      ],
      "source": [
        "precision_evaluator2 = MulticlassClassificationEvaluator(labelCol='readiness', predictionCol='prediction', metricName='weightedPrecision')\n",
        "precision_2 = precision_evaluator2.evaluate(predictions_lr2)\n",
        "print(f'Precision: {precision_2}')\n"
      ]
    },
    {
      "cell_type": "code",
      "execution_count": null,
      "metadata": {
        "colab": {
          "base_uri": "https://localhost:8080/"
        },
        "id": "fGIgGPHnRhHz",
        "outputId": "5dfe3198-a33b-466b-d4ac-63a701d053f0"
      },
      "outputs": [
        {
          "output_type": "stream",
          "name": "stdout",
          "text": [
            "Recall: 0.6208053691275168\n"
          ]
        }
      ],
      "source": [
        "recall_evaluator2 = MulticlassClassificationEvaluator(labelCol='readiness', predictionCol='prediction', metricName='weightedRecall')\n",
        "recall_2 = recall_evaluator2.evaluate(predictions_lr2)\n",
        "print(f'Recall: {recall_2}')\n"
      ]
    },
    {
      "cell_type": "code",
      "execution_count": null,
      "metadata": {
        "colab": {
          "base_uri": "https://localhost:8080/"
        },
        "id": "2LggjbFIRty_",
        "outputId": "c713cc3d-dee2-4363-a088-8899b469c160"
      },
      "outputs": [
        {
          "output_type": "stream",
          "name": "stdout",
          "text": [
            "F1 Score: 0.6022630563912674\n"
          ]
        }
      ],
      "source": [
        "f1_evaluator_2 = MulticlassClassificationEvaluator(labelCol='readiness', predictionCol='prediction', metricName='f1')\n",
        "f1_2 = f1_evaluator_2.evaluate(predictions_lr2)\n",
        "print(f'F1 Score: {f1_2}')\n"
      ]
    },
    {
      "cell_type": "code",
      "execution_count": null,
      "metadata": {
        "colab": {
          "base_uri": "https://localhost:8080/"
        },
        "id": "LJWbHw6wccRv",
        "outputId": "3dd71f36-300c-4ade-8d6c-b347b9d9bb6d"
      },
      "outputs": [
        {
          "output_type": "stream",
          "name": "stdout",
          "text": [
            "Accuracy: 0.6208053691275168\n",
            "Precision: 0.6029959394921208\n",
            "Recall: 0.6208053691275168\n",
            "F1 Score: 0.6022630563912674\n"
          ]
        }
      ],
      "source": [
        "print(f'Accuracy: {accuracy_lr2}')\n",
        "print(f'Precision: {precision_2}')\n",
        "print(f'Recall: {recall_2 }')\n",
        "print(f'F1 Score: {f1_2}')"
      ]
    },
    {
      "cell_type": "code",
      "execution_count": null,
      "metadata": {
        "colab": {
          "base_uri": "https://localhost:8080/"
        },
        "id": "zUopTBKS-0vO",
        "outputId": "d022694e-922c-4605-ca98-265b89ce40a5"
      },
      "outputs": [
        {
          "output_type": "stream",
          "name": "stdout",
          "text": [
            "['overall_score', 'composition_score', 'revitalization_score', 'duration_score', 'deep_sleep_in_minutes', 'resting_heart_rate', 'restlessness', 'fatigue', 'mood', 'sleep_duration_h', 'sleep_quality', 'soreness', 'stress', 'participant_id_indexed', 'soreness_area_indexed', 'activity_names_indexed', 'perceived_exertion_indexed', 'duration_min_indexed', 'injuries_indexed']\n"
          ]
        }
      ],
      "source": [
        "print(feature_columns)"
      ]
    },
    {
      "cell_type": "markdown",
      "source": [
        "# Decision tree"
      ],
      "metadata": {
        "id": "l4wFotiCsZPX"
      }
    },
    {
      "cell_type": "markdown",
      "source": [
        " (WITH TUNING)"
      ],
      "metadata": {
        "id": "Q7vvSDCjsceA"
      }
    },
    {
      "cell_type": "code",
      "source": [
        "from pyspark.ml.classification import DecisionTreeClassifier\n",
        "\n",
        "# Decision Tree\n",
        "dt = DecisionTreeClassifier(featuresCol='features', labelCol='readiness', maxBins=64)\n",
        "\n",
        "paramGrid_dt = (ParamGridBuilder()\n",
        "                .addGrid(dt.maxDepth, [5, 10, 15])\n",
        "                .addGrid(dt.minInstancesPerNode, [1, 2])\n",
        "                .build())\n",
        "\n",
        "crossval_dt = CrossValidator(estimator=dt,\n",
        "                             estimatorParamMaps=paramGrid_dt,\n",
        "                             evaluator=evaluator,\n",
        "                             numFolds=2)\n",
        "\n",
        "cv_model_dt = crossval_dt.fit(train_data)\n",
        "predictions_dt = cv_model_dt.transform(test_data)\n",
        "\n",
        "accuracy_dt = evaluator.evaluate(predictions_dt)\n"
      ],
      "metadata": {
        "id": "l0CrZjdysg1p"
      },
      "execution_count": null,
      "outputs": []
    },
    {
      "cell_type": "code",
      "source": [
        "# Evaluate Decision Tree\n",
        "precision_dt = precision_evaluator.evaluate(predictions_dt)\n",
        "recall_dt = recall_evaluator.evaluate(predictions_dt)\n",
        "f1_dt = f1_evaluator.evaluate(predictions_dt)\n",
        "\n",
        "print(f\"Decision Tree Metrics:\")\n",
        "print(f\"  - Accuracy : {accuracy_dt:.4f}\")\n",
        "print(f\"  - Precision: {precision_dt:.4f}\")\n",
        "print(f\"  - Recall   : {recall_dt:.4f}\")\n",
        "print(f\"  - F1-score : {f1_dt:.4f}\")"
      ],
      "metadata": {
        "colab": {
          "base_uri": "https://localhost:8080/"
        },
        "id": "Oz2tLMMwspzx",
        "outputId": "8be136c0-d58d-4021-8233-4686829a12ae"
      },
      "execution_count": null,
      "outputs": [
        {
          "output_type": "stream",
          "name": "stdout",
          "text": [
            "Decision Tree Metrics:\n",
            "  - Accuracy : 0.6644\n",
            "  - Precision: 0.6807\n",
            "  - Recall   : 0.6644\n",
            "  - F1-score : 0.6564\n"
          ]
        }
      ]
    },
    {
      "cell_type": "code",
      "source": [
        "# Prepare (prediction, label) RDD\n",
        "predictionAndLabels_dt = predictions_dt.select('prediction', 'readiness') \\\n",
        "                                       .rdd \\\n",
        "                                       .map(lambda row: (float(row['prediction']), float(row['readiness'])))\n",
        "\n",
        "# Create Metrics object\n",
        "metrics_dt = MulticlassMetrics(predictionAndLabels_dt)\n",
        "\n",
        "# Print Confusion Matrix\n",
        "print(\"Confusion Matrix for Decision Tree:\")\n",
        "print(metrics_dt.confusionMatrix().toArray())"
      ],
      "metadata": {
        "colab": {
          "base_uri": "https://localhost:8080/"
        },
        "id": "KH3A7ocw3ECe",
        "outputId": "9b04a190-14dd-4a1f-e42c-da7c80d2ecf2"
      },
      "execution_count": null,
      "outputs": [
        {
          "output_type": "stream",
          "name": "stderr",
          "text": [
            "/usr/local/lib/python3.11/dist-packages/pyspark/sql/context.py:158: FutureWarning: Deprecated in 3.0.0. Use SparkSession.builder.getOrCreate() instead.\n",
            "  warnings.warn(\n"
          ]
        },
        {
          "output_type": "stream",
          "name": "stdout",
          "text": [
            "Confusion Matrix for Decision Tree:\n",
            "[[ 61.  43.   0.]\n",
            " [ 41. 131.   0.]\n",
            " [  2.  14.   6.]]\n"
          ]
        }
      ]
    },
    {
      "cell_type": "markdown",
      "source": [
        " (WITHOUT TUNING )"
      ],
      "metadata": {
        "id": "Vq0oT2aes7bN"
      }
    },
    {
      "cell_type": "code",
      "execution_count": null,
      "metadata": {
        "id": "cgncJM-7IjwS",
        "colab": {
          "base_uri": "https://localhost:8080/"
        },
        "outputId": "27d50aa2-b9ff-4a5a-d986-0c7577fa6736"
      },
      "outputs": [
        {
          "output_type": "stream",
          "name": "stdout",
          "text": [
            "Decision Tree → Accuracy = 0.705,  F1 = 0.701\n"
          ]
        }
      ],
      "source": [
        "# 1) Init DT with some regularization\n",
        "dt2 = DecisionTreeClassifier(\n",
        "    featuresCol='features',\n",
        "    labelCol='readiness',\n",
        "    maxBins=64,      #must be >40\n",
        "    maxDepth=10      #optional choice\n",
        ")\n",
        "\n",
        "\n",
        "# 2) Train\n",
        "dt_model2 = dt2.fit(train_data)\n",
        "\n",
        "# 3) Predict\n",
        "predictions_dt2 = dt_model2.transform(test_data)\n",
        "\n",
        "# 4) Evaluate\n",
        "evaluator_dt2 = MulticlassClassificationEvaluator(\n",
        "    labelCol='readiness',\n",
        "    predictionCol='prediction',\n",
        "    metricName='accuracy'\n",
        ")\n",
        "acc_dt2 = evaluator_dt2.evaluate(predictions_dt2)\n",
        "precision_dt2 = evaluator_dt2.setMetricName('weightedPrecision').evaluate(predictions_dt2)\n",
        "recall_dt2 = evaluator_dt2.setMetricName('weightedRecall').evaluate(predictions_dt2)\n",
        "f1_dt2  = evaluator_dt2.setMetricName('f1').evaluate(predictions_dt2)\n",
        "print(f\"Decision Tree → Accuracy = {acc_dt2:.3f},  F1 = {f1_dt2:.3f}\")\n",
        "\n"
      ]
    },
    {
      "cell_type": "code",
      "execution_count": null,
      "metadata": {
        "colab": {
          "base_uri": "https://localhost:8080/"
        },
        "id": "qDmmu7JaNXhF",
        "outputId": "90a90f46-384d-4223-c08b-d6ba6681dc86"
      },
      "outputs": [
        {
          "output_type": "stream",
          "name": "stdout",
          "text": [
            "Decision Tree → Accuracy  = 0.705\n",
            "Decision Tree → Precision = 0.705\n",
            "Decision Tree → Recall    = 0.705\n",
            "Decision Tree → F1 Score  = 0.701\n"
          ]
        }
      ],
      "source": [
        "print(f\"Decision Tree → Accuracy  = {acc_dt2:.3f}\")\n",
        "print(f\"Decision Tree → Precision = {precision_dt2:.3f}\")\n",
        "print(f\"Decision Tree → Recall    = {recall_dt2:.3f}\")\n",
        "print(f\"Decision Tree → F1 Score  = {f1_dt2:.3f}\")\n"
      ]
    }
  ],
  "metadata": {
    "colab": {
      "provenance": []
    },
    "kernelspec": {
      "display_name": "Python 3",
      "name": "python3"
    },
    "language_info": {
      "name": "python"
    }
  },
  "nbformat": 4,
  "nbformat_minor": 0
}
